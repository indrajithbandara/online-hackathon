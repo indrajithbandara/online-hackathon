{
 "cells": [
  {
   "cell_type": "code",
   "execution_count": 1,
   "metadata": {
    "collapsed": true
   },
   "outputs": [],
   "source": [
    "import seaborn as sns\n",
    "import matplotlib.pyplot as plt"
   ]
  },
  {
   "cell_type": "code",
   "execution_count": 90,
   "metadata": {
    "collapsed": false
   },
   "outputs": [],
   "source": [
    "%run scripts/helper.py\n",
    "%matplotlib inline"
   ]
  },
  {
   "cell_type": "code",
   "execution_count": 63,
   "metadata": {
    "collapsed": true
   },
   "outputs": [],
   "source": [
    "magazino_data = load_data('./train.csv/train.csv', index_col='id')"
   ]
  },
  {
   "cell_type": "markdown",
   "metadata": {},
   "source": [
    "### Information about the dataset"
   ]
  },
  {
   "cell_type": "code",
   "execution_count": 64,
   "metadata": {
    "collapsed": false
   },
   "outputs": [
    {
     "name": "stdout",
     "output_type": "stream",
     "text": [
      "<class 'pandas.core.frame.DataFrame'>\n",
      "Int64Index: 24875 entries, 1000001 to 1024875\n",
      "Data columns (total 47 columns):\n",
      " n_tokens_title                  24875 non-null int64\n",
      " n_tokens_content                24875 non-null int64\n",
      " n_unique_tokens                 24875 non-null float64\n",
      " n_non_stop_words                24875 non-null float64\n",
      " n_non_stop_unique_tokens        24875 non-null float64\n",
      " num_hrefs                       24875 non-null int64\n",
      " num_self_hrefs                  24875 non-null int64\n",
      " num_imgs                        24875 non-null int64\n",
      " num_videos                      24875 non-null int64\n",
      " average_token_length            24875 non-null float64\n",
      " num_keywords                    24875 non-null int64\n",
      "Category_article                 24875 non-null object\n",
      " kw_min_min                      24875 non-null int64\n",
      " kw_max_min                      24875 non-null float64\n",
      " kw_avg_min                      24875 non-null float64\n",
      " kw_min_max                      24875 non-null int64\n",
      " kw_max_max                      24875 non-null int64\n",
      " kw_avg_max                      24875 non-null float64\n",
      " kw_min_avg                      24875 non-null float64\n",
      " kw_max_avg                      24875 non-null float64\n",
      " kw_avg_avg                      24875 non-null float64\n",
      " self_reference_min_shares       24875 non-null float64\n",
      " self_reference_max_shares       24875 non-null int64\n",
      " self_reference_avg_sharess      24875 non-null float64\n",
      "Day_of_publishing                24875 non-null object\n",
      " LDA_00                          24875 non-null float64\n",
      " LDA_01                          24875 non-null float64\n",
      " LDA_02                          24875 non-null float64\n",
      " LDA_03                          24875 non-null float64\n",
      " LDA_04                          24875 non-null float64\n",
      " global_subjectivity             24875 non-null float64\n",
      " global_sentiment_polarity       24875 non-null float64\n",
      " global_rate_positive_words      24875 non-null float64\n",
      " global_rate_negative_words      24875 non-null float64\n",
      " rate_positive_words             24875 non-null float64\n",
      " rate_negative_words             24875 non-null float64\n",
      " avg_positive_polarity           24875 non-null float64\n",
      " min_positive_polarity           24875 non-null float64\n",
      " max_positive_polarity           24875 non-null float64\n",
      " avg_negative_polarity           24875 non-null float64\n",
      " min_negative_polarity           24875 non-null float64\n",
      " max_negative_polarity           24875 non-null float64\n",
      " title_subjectivity              24875 non-null float64\n",
      " title_sentiment_polarity        24875 non-null float64\n",
      " abs_title_subjectivity          24875 non-null float64\n",
      " abs_title_sentiment_polarity    24875 non-null float64\n",
      " shares                          24875 non-null int64\n",
      "dtypes: float64(33), int64(12), object(2)\n",
      "memory usage: 8.9+ MB\n"
     ]
    }
   ],
   "source": [
    "magazino_data.info()"
   ]
  },
  {
   "cell_type": "markdown",
   "metadata": {},
   "source": [
    "### There are no missing values in this dataset."
   ]
  },
  {
   "cell_type": "code",
   "execution_count": 65,
   "metadata": {
    "collapsed": false
   },
   "outputs": [],
   "source": [
    "# there are some columns that start with capital letters\n",
    "# lets bring uniformity\n",
    "\n",
    "magazino_data.columns = magazino_data.columns.map(lambda x: x.strip().lower())"
   ]
  },
  {
   "cell_type": "code",
   "execution_count": 66,
   "metadata": {
    "collapsed": false
   },
   "outputs": [
    {
     "name": "stdout",
     "output_type": "stream",
     "text": [
      "Index([u'n_tokens_title', u'n_tokens_content', u'n_unique_tokens', u'n_non_stop_words', u'n_non_stop_unique_tokens', u'num_hrefs', u'num_self_hrefs', u'num_imgs', u'num_videos', u'average_token_length', u'num_keywords', u'category_article', u'kw_min_min', u'kw_max_min', u'kw_avg_min', u'kw_min_max', u'kw_max_max', u'kw_avg_max', u'kw_min_avg', u'kw_max_avg', u'kw_avg_avg', u'self_reference_min_shares', u'self_reference_max_shares', u'self_reference_avg_sharess', u'day_of_publishing', u'lda_00', u'lda_01', u'lda_02', u'lda_03', u'lda_04', u'global_subjectivity', u'global_sentiment_polarity', u'global_rate_positive_words', u'global_rate_negative_words', u'rate_positive_words', u'rate_negative_words', u'avg_positive_polarity', u'min_positive_polarity', u'max_positive_polarity', u'avg_negative_polarity', u'min_negative_polarity', u'max_negative_polarity', u'title_subjectivity', u'title_sentiment_polarity', u'abs_title_subjectivity', u'abs_title_sentiment_polarity', u'shares'], dtype='object')\n"
     ]
    }
   ],
   "source": [
    "print magazino_data.columns"
   ]
  },
  {
   "cell_type": "markdown",
   "metadata": {},
   "source": [
    "### Get target variable"
   ]
  },
  {
   "cell_type": "code",
   "execution_count": 67,
   "metadata": {
    "collapsed": false
   },
   "outputs": [],
   "source": [
    "target = get_target(magazino_data, 'shares')"
   ]
  },
  {
   "cell_type": "markdown",
   "metadata": {},
   "source": [
    "### Summary Statistics"
   ]
  },
  {
   "cell_type": "code",
   "execution_count": 68,
   "metadata": {
    "collapsed": false
   },
   "outputs": [
    {
     "data": {
      "text/html": [
       "<div style=\"max-height:1000px;max-width:1500px;overflow:auto;\">\n",
       "<table border=\"1\" class=\"dataframe\">\n",
       "  <thead>\n",
       "    <tr style=\"text-align: right;\">\n",
       "      <th></th>\n",
       "      <th>n_tokens_title</th>\n",
       "      <th>n_tokens_content</th>\n",
       "      <th>n_unique_tokens</th>\n",
       "      <th>n_non_stop_words</th>\n",
       "      <th>n_non_stop_unique_tokens</th>\n",
       "      <th>num_hrefs</th>\n",
       "      <th>num_self_hrefs</th>\n",
       "      <th>num_imgs</th>\n",
       "      <th>num_videos</th>\n",
       "      <th>average_token_length</th>\n",
       "      <th>...</th>\n",
       "      <th>min_positive_polarity</th>\n",
       "      <th>max_positive_polarity</th>\n",
       "      <th>avg_negative_polarity</th>\n",
       "      <th>min_negative_polarity</th>\n",
       "      <th>max_negative_polarity</th>\n",
       "      <th>title_subjectivity</th>\n",
       "      <th>title_sentiment_polarity</th>\n",
       "      <th>abs_title_subjectivity</th>\n",
       "      <th>abs_title_sentiment_polarity</th>\n",
       "      <th>shares</th>\n",
       "    </tr>\n",
       "  </thead>\n",
       "  <tbody>\n",
       "    <tr>\n",
       "      <th>count</th>\n",
       "      <td> 24875.000000</td>\n",
       "      <td> 24875.000000</td>\n",
       "      <td> 24875.000000</td>\n",
       "      <td> 24875.000000</td>\n",
       "      <td> 24875.000000</td>\n",
       "      <td> 24875.000000</td>\n",
       "      <td> 24875.000000</td>\n",
       "      <td> 24875.000000</td>\n",
       "      <td> 24875.000000</td>\n",
       "      <td> 24875.000000</td>\n",
       "      <td>...</td>\n",
       "      <td> 24875.000000</td>\n",
       "      <td> 24875.000000</td>\n",
       "      <td> 24875.000000</td>\n",
       "      <td> 24875.000000</td>\n",
       "      <td> 24875.000000</td>\n",
       "      <td> 24875.000000</td>\n",
       "      <td> 24875.000000</td>\n",
       "      <td> 24875.000000</td>\n",
       "      <td> 24875.000000</td>\n",
       "      <td>  24875.000000</td>\n",
       "    </tr>\n",
       "    <tr>\n",
       "      <th>mean</th>\n",
       "      <td>    10.402653</td>\n",
       "      <td>   547.424683</td>\n",
       "      <td>     0.558521</td>\n",
       "      <td>     1.012181</td>\n",
       "      <td>     0.698535</td>\n",
       "      <td>    10.937809</td>\n",
       "      <td>     3.293910</td>\n",
       "      <td>     4.564864</td>\n",
       "      <td>     1.255075</td>\n",
       "      <td>     4.549632</td>\n",
       "      <td>...</td>\n",
       "      <td>     0.095107</td>\n",
       "      <td>     0.756698</td>\n",
       "      <td>    -0.260583</td>\n",
       "      <td>    -0.523667</td>\n",
       "      <td>    -0.107946</td>\n",
       "      <td>     0.285313</td>\n",
       "      <td>     0.071903</td>\n",
       "      <td>     0.341562</td>\n",
       "      <td>     0.157802</td>\n",
       "      <td>   3394.603819</td>\n",
       "    </tr>\n",
       "    <tr>\n",
       "      <th>std</th>\n",
       "      <td>     2.121813</td>\n",
       "      <td>   471.033124</td>\n",
       "      <td>     4.443376</td>\n",
       "      <td>     6.602752</td>\n",
       "      <td>     4.119873</td>\n",
       "      <td>    11.325771</td>\n",
       "      <td>     3.768392</td>\n",
       "      <td>     8.257914</td>\n",
       "      <td>     4.106675</td>\n",
       "      <td>     0.842773</td>\n",
       "      <td>...</td>\n",
       "      <td>     0.070869</td>\n",
       "      <td>     0.247426</td>\n",
       "      <td>     0.128034</td>\n",
       "      <td>     0.289318</td>\n",
       "      <td>     0.096378</td>\n",
       "      <td>     0.325900</td>\n",
       "      <td>     0.266882</td>\n",
       "      <td>     0.188743</td>\n",
       "      <td>     0.226923</td>\n",
       "      <td>  11442.450834</td>\n",
       "    </tr>\n",
       "    <tr>\n",
       "      <th>min</th>\n",
       "      <td>     2.000000</td>\n",
       "      <td>     0.000000</td>\n",
       "      <td>     0.000000</td>\n",
       "      <td>     0.000000</td>\n",
       "      <td>     0.000000</td>\n",
       "      <td>     0.000000</td>\n",
       "      <td>     0.000000</td>\n",
       "      <td>     0.000000</td>\n",
       "      <td>     0.000000</td>\n",
       "      <td>     0.000000</td>\n",
       "      <td>...</td>\n",
       "      <td>     0.000000</td>\n",
       "      <td>     0.000000</td>\n",
       "      <td>    -1.000000</td>\n",
       "      <td>    -1.000000</td>\n",
       "      <td>    -1.000000</td>\n",
       "      <td>     0.000000</td>\n",
       "      <td>    -1.000000</td>\n",
       "      <td>     0.000000</td>\n",
       "      <td>     0.000000</td>\n",
       "      <td>      4.000000</td>\n",
       "    </tr>\n",
       "    <tr>\n",
       "      <th>25%</th>\n",
       "      <td>     9.000000</td>\n",
       "      <td>   246.000000</td>\n",
       "      <td>     0.470517</td>\n",
       "      <td>     1.000000</td>\n",
       "      <td>     0.625483</td>\n",
       "      <td>     4.000000</td>\n",
       "      <td>     1.000000</td>\n",
       "      <td>     1.000000</td>\n",
       "      <td>     0.000000</td>\n",
       "      <td>     4.480420</td>\n",
       "      <td>...</td>\n",
       "      <td>     0.050000</td>\n",
       "      <td>     0.600000</td>\n",
       "      <td>    -0.329488</td>\n",
       "      <td>    -0.700000</td>\n",
       "      <td>    -0.125000</td>\n",
       "      <td>     0.000000</td>\n",
       "      <td>     0.000000</td>\n",
       "      <td>     0.166667</td>\n",
       "      <td>     0.000000</td>\n",
       "      <td>    946.000000</td>\n",
       "    </tr>\n",
       "    <tr>\n",
       "      <th>50%</th>\n",
       "      <td>    10.000000</td>\n",
       "      <td>   410.000000</td>\n",
       "      <td>     0.539352</td>\n",
       "      <td>     1.000000</td>\n",
       "      <td>     0.690083</td>\n",
       "      <td>     8.000000</td>\n",
       "      <td>     3.000000</td>\n",
       "      <td>     1.000000</td>\n",
       "      <td>     0.000000</td>\n",
       "      <td>     4.664530</td>\n",
       "      <td>...</td>\n",
       "      <td>     0.100000</td>\n",
       "      <td>     0.800000</td>\n",
       "      <td>    -0.253333</td>\n",
       "      <td>    -0.500000</td>\n",
       "      <td>    -0.100000</td>\n",
       "      <td>     0.150000</td>\n",
       "      <td>     0.000000</td>\n",
       "      <td>     0.500000</td>\n",
       "      <td>     0.002222</td>\n",
       "      <td>   1400.000000</td>\n",
       "    </tr>\n",
       "    <tr>\n",
       "      <th>75%</th>\n",
       "      <td>    12.000000</td>\n",
       "      <td>   719.000000</td>\n",
       "      <td>     0.607987</td>\n",
       "      <td>     1.000000</td>\n",
       "      <td>     0.754417</td>\n",
       "      <td>    14.000000</td>\n",
       "      <td>     4.000000</td>\n",
       "      <td>     4.000000</td>\n",
       "      <td>     1.000000</td>\n",
       "      <td>     4.857893</td>\n",
       "      <td>...</td>\n",
       "      <td>     0.100000</td>\n",
       "      <td>     1.000000</td>\n",
       "      <td>    -0.187500</td>\n",
       "      <td>    -0.300000</td>\n",
       "      <td>    -0.050000</td>\n",
       "      <td>     0.500000</td>\n",
       "      <td>     0.156250</td>\n",
       "      <td>     0.500000</td>\n",
       "      <td>     0.250000</td>\n",
       "      <td>   2800.000000</td>\n",
       "    </tr>\n",
       "    <tr>\n",
       "      <th>max</th>\n",
       "      <td>    20.000000</td>\n",
       "      <td>  8474.000000</td>\n",
       "      <td>   701.000000</td>\n",
       "      <td>  1042.000000</td>\n",
       "      <td>   650.000000</td>\n",
       "      <td>   187.000000</td>\n",
       "      <td>    63.000000</td>\n",
       "      <td>   111.000000</td>\n",
       "      <td>    91.000000</td>\n",
       "      <td>     7.974684</td>\n",
       "      <td>...</td>\n",
       "      <td>     1.000000</td>\n",
       "      <td>     1.000000</td>\n",
       "      <td>     0.000000</td>\n",
       "      <td>     0.000000</td>\n",
       "      <td>     0.000000</td>\n",
       "      <td>     1.000000</td>\n",
       "      <td>     1.000000</td>\n",
       "      <td>     0.500000</td>\n",
       "      <td>     1.000000</td>\n",
       "      <td> 690400.000000</td>\n",
       "    </tr>\n",
       "  </tbody>\n",
       "</table>\n",
       "<p>8 rows × 45 columns</p>\n",
       "</div>"
      ],
      "text/plain": [
       "       n_tokens_title  n_tokens_content  n_unique_tokens  n_non_stop_words  \\\n",
       "count    24875.000000      24875.000000     24875.000000      24875.000000   \n",
       "mean        10.402653        547.424683         0.558521          1.012181   \n",
       "std          2.121813        471.033124         4.443376          6.602752   \n",
       "min          2.000000          0.000000         0.000000          0.000000   \n",
       "25%          9.000000        246.000000         0.470517          1.000000   \n",
       "50%         10.000000        410.000000         0.539352          1.000000   \n",
       "75%         12.000000        719.000000         0.607987          1.000000   \n",
       "max         20.000000       8474.000000       701.000000       1042.000000   \n",
       "\n",
       "       n_non_stop_unique_tokens     num_hrefs  num_self_hrefs      num_imgs  \\\n",
       "count              24875.000000  24875.000000    24875.000000  24875.000000   \n",
       "mean                   0.698535     10.937809        3.293910      4.564864   \n",
       "std                    4.119873     11.325771        3.768392      8.257914   \n",
       "min                    0.000000      0.000000        0.000000      0.000000   \n",
       "25%                    0.625483      4.000000        1.000000      1.000000   \n",
       "50%                    0.690083      8.000000        3.000000      1.000000   \n",
       "75%                    0.754417     14.000000        4.000000      4.000000   \n",
       "max                  650.000000    187.000000       63.000000    111.000000   \n",
       "\n",
       "         num_videos  average_token_length      ...        \\\n",
       "count  24875.000000          24875.000000      ...         \n",
       "mean       1.255075              4.549632      ...         \n",
       "std        4.106675              0.842773      ...         \n",
       "min        0.000000              0.000000      ...         \n",
       "25%        0.000000              4.480420      ...         \n",
       "50%        0.000000              4.664530      ...         \n",
       "75%        1.000000              4.857893      ...         \n",
       "max       91.000000              7.974684      ...         \n",
       "\n",
       "       min_positive_polarity  max_positive_polarity  avg_negative_polarity  \\\n",
       "count           24875.000000           24875.000000           24875.000000   \n",
       "mean                0.095107               0.756698              -0.260583   \n",
       "std                 0.070869               0.247426               0.128034   \n",
       "min                 0.000000               0.000000              -1.000000   \n",
       "25%                 0.050000               0.600000              -0.329488   \n",
       "50%                 0.100000               0.800000              -0.253333   \n",
       "75%                 0.100000               1.000000              -0.187500   \n",
       "max                 1.000000               1.000000               0.000000   \n",
       "\n",
       "       min_negative_polarity  max_negative_polarity  title_subjectivity  \\\n",
       "count           24875.000000           24875.000000        24875.000000   \n",
       "mean               -0.523667              -0.107946            0.285313   \n",
       "std                 0.289318               0.096378            0.325900   \n",
       "min                -1.000000              -1.000000            0.000000   \n",
       "25%                -0.700000              -0.125000            0.000000   \n",
       "50%                -0.500000              -0.100000            0.150000   \n",
       "75%                -0.300000              -0.050000            0.500000   \n",
       "max                 0.000000               0.000000            1.000000   \n",
       "\n",
       "       title_sentiment_polarity  abs_title_subjectivity  \\\n",
       "count              24875.000000            24875.000000   \n",
       "mean                   0.071903                0.341562   \n",
       "std                    0.266882                0.188743   \n",
       "min                   -1.000000                0.000000   \n",
       "25%                    0.000000                0.166667   \n",
       "50%                    0.000000                0.500000   \n",
       "75%                    0.156250                0.500000   \n",
       "max                    1.000000                0.500000   \n",
       "\n",
       "       abs_title_sentiment_polarity         shares  \n",
       "count                  24875.000000   24875.000000  \n",
       "mean                       0.157802    3394.603819  \n",
       "std                        0.226923   11442.450834  \n",
       "min                        0.000000       4.000000  \n",
       "25%                        0.000000     946.000000  \n",
       "50%                        0.002222    1400.000000  \n",
       "75%                        0.250000    2800.000000  \n",
       "max                        1.000000  690400.000000  \n",
       "\n",
       "[8 rows x 45 columns]"
      ]
     },
     "execution_count": 68,
     "metadata": {},
     "output_type": "execute_result"
    }
   ],
   "source": [
    "magazino_data.describe()"
   ]
  },
  {
   "cell_type": "code",
   "execution_count": 24,
   "metadata": {
    "collapsed": false
   },
   "outputs": [
    {
     "data": {
      "text/plain": [
       "count     24875.000000\n",
       "mean       3394.603819\n",
       "std       11442.450834\n",
       "min           4.000000\n",
       "25%         946.000000\n",
       "50%        1400.000000\n",
       "75%        2800.000000\n",
       "max      690400.000000\n",
       "Name: shares, dtype: float64"
      ]
     },
     "execution_count": 24,
     "metadata": {},
     "output_type": "execute_result"
    }
   ],
   "source": [
    "magazino_data.shares.describe()"
   ]
  },
  {
   "cell_type": "code",
   "execution_count": 69,
   "metadata": {
    "collapsed": true
   },
   "outputs": [],
   "source": [
    "# magazino_data = magazino_data[magazino_data.shares <= 2800]"
   ]
  },
  {
   "cell_type": "code",
   "execution_count": 70,
   "metadata": {
    "collapsed": true
   },
   "outputs": [],
   "source": [
    "# target = magazino_data.shares"
   ]
  },
  {
   "cell_type": "markdown",
   "metadata": {},
   "source": [
    "### Craft features"
   ]
  },
  {
   "cell_type": "code",
   "execution_count": 72,
   "metadata": {
    "collapsed": true
   },
   "outputs": [],
   "source": [
    "features = return_features(magazino_data)"
   ]
  },
  {
   "cell_type": "code",
   "execution_count": 91,
   "metadata": {
    "collapsed": false
   },
   "outputs": [],
   "source": [
    "features = add_dummy_variabes(features, magazino_data)"
   ]
  },
  {
   "cell_type": "code",
   "execution_count": 93,
   "metadata": {
    "collapsed": false
   },
   "outputs": [],
   "source": [
    "Xt, Xv, yt, yv = split_data(features, target)"
   ]
  },
  {
   "cell_type": "code",
   "execution_count": 94,
   "metadata": {
    "collapsed": false
   },
   "outputs": [],
   "source": [
    "lr_model = build_model(Xt, yt)"
   ]
  },
  {
   "cell_type": "code",
   "execution_count": 95,
   "metadata": {
    "collapsed": false
   },
   "outputs": [],
   "source": [
    "y_train_pred = predict(lr_model, Xt)"
   ]
  },
  {
   "cell_type": "code",
   "execution_count": 96,
   "metadata": {
    "collapsed": false
   },
   "outputs": [
    {
     "name": "stdout",
     "output_type": "stream",
     "text": [
      "Training score 12018.9632 \n"
     ]
    }
   ],
   "source": [
    "print 'Training score %0.4f ' %(RMSE(yt, y_train_pred))"
   ]
  },
  {
   "cell_type": "code",
   "execution_count": 97,
   "metadata": {
    "collapsed": false
   },
   "outputs": [],
   "source": [
    "y_test_pred = predict(lr_model, Xv)"
   ]
  },
  {
   "cell_type": "code",
   "execution_count": 98,
   "metadata": {
    "collapsed": false
   },
   "outputs": [
    {
     "name": "stdout",
     "output_type": "stream",
     "text": [
      "Testing score 7871.6968 \n"
     ]
    }
   ],
   "source": [
    "print 'Testing score %0.4f ' %(RMSE(yv, y_test_pred))"
   ]
  },
  {
   "cell_type": "markdown",
   "metadata": {
    "collapsed": true
   },
   "source": [
    "### Train on whole dataset and make predictions"
   ]
  },
  {
   "cell_type": "code",
   "execution_count": 79,
   "metadata": {
    "collapsed": true
   },
   "outputs": [],
   "source": [
    "model = build_model(features, target)"
   ]
  },
  {
   "cell_type": "code",
   "execution_count": 80,
   "metadata": {
    "collapsed": true
   },
   "outputs": [],
   "source": [
    "# Load testing set\n",
    "magazino_test = load_data('./test.csv', index_col='id')"
   ]
  },
  {
   "cell_type": "code",
   "execution_count": 81,
   "metadata": {
    "collapsed": true
   },
   "outputs": [],
   "source": [
    "features_test = return_features(magazino_test)"
   ]
  },
  {
   "cell_type": "code",
   "execution_count": 82,
   "metadata": {
    "collapsed": true
   },
   "outputs": [],
   "source": [
    "final_predictions = predict(model, features_test)"
   ]
  },
  {
   "cell_type": "code",
   "execution_count": 83,
   "metadata": {
    "collapsed": false
   },
   "outputs": [],
   "source": [
    "make_submission(magazino_test.index.values, final_predictions, 'linear_data_submission.csv')"
   ]
  },
  {
   "cell_type": "code",
   "execution_count": null,
   "metadata": {
    "collapsed": true
   },
   "outputs": [],
   "source": []
  },
  {
   "cell_type": "code",
   "execution_count": 85,
   "metadata": {
    "collapsed": false
   },
   "outputs": [],
   "source": []
  },
  {
   "cell_type": "code",
   "execution_count": 87,
   "metadata": {
    "collapsed": false
   },
   "outputs": [
    {
     "data": {
      "text/html": [
       "<div style=\"max-height:1000px;max-width:1500px;overflow:auto;\">\n",
       "<table border=\"1\" class=\"dataframe\">\n",
       "  <thead>\n",
       "    <tr style=\"text-align: right;\">\n",
       "      <th></th>\n",
       "      <th>category__Business</th>\n",
       "      <th>category__Social Media</th>\n",
       "      <th>category__Technology</th>\n",
       "      <th>category__World</th>\n",
       "    </tr>\n",
       "    <tr>\n",
       "      <th>id</th>\n",
       "      <th></th>\n",
       "      <th></th>\n",
       "      <th></th>\n",
       "      <th></th>\n",
       "    </tr>\n",
       "  </thead>\n",
       "  <tbody>\n",
       "    <tr>\n",
       "      <th>1000001</th>\n",
       "      <td> 0</td>\n",
       "      <td> 0</td>\n",
       "      <td> 1</td>\n",
       "      <td> 0</td>\n",
       "    </tr>\n",
       "    <tr>\n",
       "      <th>1000002</th>\n",
       "      <td> 0</td>\n",
       "      <td> 1</td>\n",
       "      <td> 0</td>\n",
       "      <td> 0</td>\n",
       "    </tr>\n",
       "    <tr>\n",
       "      <th>1000003</th>\n",
       "      <td> 0</td>\n",
       "      <td> 0</td>\n",
       "      <td> 0</td>\n",
       "      <td> 1</td>\n",
       "    </tr>\n",
       "    <tr>\n",
       "      <th>1000004</th>\n",
       "      <td> 0</td>\n",
       "      <td> 0</td>\n",
       "      <td> 1</td>\n",
       "      <td> 0</td>\n",
       "    </tr>\n",
       "    <tr>\n",
       "      <th>1000005</th>\n",
       "      <td> 1</td>\n",
       "      <td> 0</td>\n",
       "      <td> 0</td>\n",
       "      <td> 0</td>\n",
       "    </tr>\n",
       "  </tbody>\n",
       "</table>\n",
       "</div>"
      ],
      "text/plain": [
       "         category__Business  category__Social Media  category__Technology  \\\n",
       "id                                                                          \n",
       "1000001                   0                       0                     1   \n",
       "1000002                   0                       1                     0   \n",
       "1000003                   0                       0                     0   \n",
       "1000004                   0                       0                     1   \n",
       "1000005                   1                       0                     0   \n",
       "\n",
       "         category__World  \n",
       "id                        \n",
       "1000001                0  \n",
       "1000002                0  \n",
       "1000003                1  \n",
       "1000004                0  \n",
       "1000005                0  "
      ]
     },
     "execution_count": 87,
     "metadata": {},
     "output_type": "execute_result"
    }
   ],
   "source": [
    "pd.get_dummies(magazino_data.category_article.head(), prefix='category_')"
   ]
  },
  {
   "cell_type": "code",
   "execution_count": null,
   "metadata": {
    "collapsed": true
   },
   "outputs": [],
   "source": []
  },
  {
   "cell_type": "code",
   "execution_count": null,
   "metadata": {
    "collapsed": true
   },
   "outputs": [],
   "source": []
  },
  {
   "cell_type": "code",
   "execution_count": null,
   "metadata": {
    "collapsed": true
   },
   "outputs": [],
   "source": []
  },
  {
   "cell_type": "code",
   "execution_count": null,
   "metadata": {
    "collapsed": true
   },
   "outputs": [],
   "source": []
  }
 ],
 "metadata": {
  "kernelspec": {
   "display_name": "Python 2",
   "language": "python",
   "name": "python2"
  },
  "language_info": {
   "codemirror_mode": {
    "name": "ipython",
    "version": 2
   },
   "file_extension": ".py",
   "mimetype": "text/x-python",
   "name": "python",
   "nbconvert_exporter": "python",
   "pygments_lexer": "ipython2",
   "version": "2.7.6"
  }
 },
 "nbformat": 4,
 "nbformat_minor": 0
}
