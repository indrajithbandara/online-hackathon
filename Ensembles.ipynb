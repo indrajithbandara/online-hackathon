{
 "cells": [
  {
   "cell_type": "code",
   "execution_count": 1,
   "metadata": {
    "collapsed": true
   },
   "outputs": [],
   "source": [
    "import pandas as pd\n",
    "import os"
   ]
  },
  {
   "cell_type": "code",
   "execution_count": 2,
   "metadata": {
    "collapsed": true
   },
   "outputs": [],
   "source": [
    "index = pd.read_csv('./sample_submission.csv').id"
   ]
  },
  {
   "cell_type": "code",
   "execution_count": 3,
   "metadata": {
    "collapsed": false
   },
   "outputs": [],
   "source": [
    "preds_df = {}\n",
    "for files in os.listdir('./submissions/'):\n",
    "    preds_df[files+'_'+'preds'] = pd.read_csv('./submissions/' + files).predictions"
   ]
  },
  {
   "cell_type": "code",
   "execution_count": 4,
   "metadata": {
    "collapsed": true
   },
   "outputs": [],
   "source": [
    "preds_df = pd.DataFrame(preds_df)"
   ]
  },
  {
   "cell_type": "code",
   "execution_count": 5,
   "metadata": {
    "collapsed": false
   },
   "outputs": [
    {
     "data": {
      "text/html": [
       "<div style=\"max-height:1000px;max-width:1500px;overflow:auto;\">\n",
       "<table border=\"1\" class=\"dataframe\">\n",
       "  <thead>\n",
       "    <tr style=\"text-align: right;\">\n",
       "      <th></th>\n",
       "      <th>baseline_submission.csv_preds</th>\n",
       "      <th>ensemblesubmission.csv_preds</th>\n",
       "      <th>ensemblesubmission_iter1.csv_preds</th>\n",
       "      <th>ensemblesubmission_iter3.csv_preds</th>\n",
       "      <th>gbr_submission.csv_preds</th>\n",
       "      <th>linear_data_submission.csv_preds</th>\n",
       "      <th>linear_pca_transform.csv_preds</th>\n",
       "      <th>linear_regression_optimize.csv_preds</th>\n",
       "      <th>linear_submission.csv_preds</th>\n",
       "      <th>min_max_transform.csv_preds</th>\n",
       "      <th>only12features.csv_preds</th>\n",
       "      <th>pca_transform.csv_preds</th>\n",
       "      <th>pls_regression.csv_preds</th>\n",
       "      <th>scaled_linear_regression.csv_preds</th>\n",
       "      <th>select_and_pca.csv_preds</th>\n",
       "      <th>selected_features_linear_regression.csv_preds</th>\n",
       "      <th>stacking_Results.csv_preds</th>\n",
       "    </tr>\n",
       "  </thead>\n",
       "  <tbody>\n",
       "    <tr>\n",
       "      <th>0</th>\n",
       "      <td> 3323.328012</td>\n",
       "      <td> 3077.065898</td>\n",
       "      <td> 3531.091856</td>\n",
       "      <td> 3171.898218</td>\n",
       "      <td> 1489.859255</td>\n",
       "      <td> 3985.164826</td>\n",
       "      <td> 4049.251112</td>\n",
       "      <td> 3468.159503</td>\n",
       "      <td> 1579.906222</td>\n",
       "      <td> 3985.164826</td>\n",
       "      <td> 3500.907640</td>\n",
       "      <td> 3266.730539</td>\n",
       "      <td> 4102.155864</td>\n",
       "      <td> 3985.164826</td>\n",
       "      <td> 3470.930521</td>\n",
       "      <td> 3675.130502</td>\n",
       "      <td> 3985.117815</td>\n",
       "    </tr>\n",
       "    <tr>\n",
       "      <th>1</th>\n",
       "      <td> 4912.813848</td>\n",
       "      <td> 3671.731070</td>\n",
       "      <td> 4170.429187</td>\n",
       "      <td> 3715.232161</td>\n",
       "      <td> 1256.950687</td>\n",
       "      <td> 4669.210328</td>\n",
       "      <td> 4678.721028</td>\n",
       "      <td> 5106.497046</td>\n",
       "      <td> 1337.512249</td>\n",
       "      <td> 4669.210328</td>\n",
       "      <td> 4278.945332</td>\n",
       "      <td> 3758.733251</td>\n",
       "      <td> 4620.541863</td>\n",
       "      <td> 4669.210328</td>\n",
       "      <td> 4168.103984</td>\n",
       "      <td> 4577.474716</td>\n",
       "      <td> 4669.127305</td>\n",
       "    </tr>\n",
       "    <tr>\n",
       "      <th>2</th>\n",
       "      <td> 1862.305171</td>\n",
       "      <td> 1907.888790</td>\n",
       "      <td> 2192.065620</td>\n",
       "      <td> 2196.902650</td>\n",
       "      <td> 1130.055480</td>\n",
       "      <td> 2476.244098</td>\n",
       "      <td> 2622.801092</td>\n",
       "      <td> 2269.888154</td>\n",
       "      <td> 1264.625906</td>\n",
       "      <td> 2476.244098</td>\n",
       "      <td> 2188.574519</td>\n",
       "      <td> 2485.916510</td>\n",
       "      <td> 2405.937533</td>\n",
       "      <td> 2476.244098</td>\n",
       "      <td> 2221.544384</td>\n",
       "      <td> 1957.172257</td>\n",
       "      <td> 2476.242449</td>\n",
       "    </tr>\n",
       "    <tr>\n",
       "      <th>3</th>\n",
       "      <td> 2163.483442</td>\n",
       "      <td> 2131.334893</td>\n",
       "      <td> 2283.950671</td>\n",
       "      <td> 2768.107236</td>\n",
       "      <td> 1418.989189</td>\n",
       "      <td> 2436.543743</td>\n",
       "      <td> 2867.575270</td>\n",
       "      <td> 2352.883213</td>\n",
       "      <td> 1426.434558</td>\n",
       "      <td> 2436.543743</td>\n",
       "      <td> 2458.957132</td>\n",
       "      <td> 3404.879579</td>\n",
       "      <td> 2426.828035</td>\n",
       "      <td> 2436.543743</td>\n",
       "      <td> 2991.636010</td>\n",
       "      <td> 2578.392441</td>\n",
       "      <td> 2436.566450</td>\n",
       "    </tr>\n",
       "    <tr>\n",
       "      <th>4</th>\n",
       "      <td> 3371.061778</td>\n",
       "      <td> 3030.931114</td>\n",
       "      <td> 3459.680347</td>\n",
       "      <td> 3721.820978</td>\n",
       "      <td> 1327.893088</td>\n",
       "      <td> 3888.435154</td>\n",
       "      <td> 4484.493551</td>\n",
       "      <td> 4192.275029</td>\n",
       "      <td> 1196.620070</td>\n",
       "      <td> 3888.435153</td>\n",
       "      <td> 4151.030574</td>\n",
       "      <td> 4412.710841</td>\n",
       "      <td> 3949.167034</td>\n",
       "      <td> 3888.435153</td>\n",
       "      <td> 3902.876410</td>\n",
       "      <td> 3393.041979</td>\n",
       "      <td> 3888.429581</td>\n",
       "    </tr>\n",
       "  </tbody>\n",
       "</table>\n",
       "</div>"
      ],
      "text/plain": [
       "   baseline_submission.csv_preds  ensemblesubmission.csv_preds  \\\n",
       "0                    3323.328012                   3077.065898   \n",
       "1                    4912.813848                   3671.731070   \n",
       "2                    1862.305171                   1907.888790   \n",
       "3                    2163.483442                   2131.334893   \n",
       "4                    3371.061778                   3030.931114   \n",
       "\n",
       "   ensemblesubmission_iter1.csv_preds  ensemblesubmission_iter3.csv_preds  \\\n",
       "0                         3531.091856                         3171.898218   \n",
       "1                         4170.429187                         3715.232161   \n",
       "2                         2192.065620                         2196.902650   \n",
       "3                         2283.950671                         2768.107236   \n",
       "4                         3459.680347                         3721.820978   \n",
       "\n",
       "   gbr_submission.csv_preds  linear_data_submission.csv_preds  \\\n",
       "0               1489.859255                       3985.164826   \n",
       "1               1256.950687                       4669.210328   \n",
       "2               1130.055480                       2476.244098   \n",
       "3               1418.989189                       2436.543743   \n",
       "4               1327.893088                       3888.435154   \n",
       "\n",
       "   linear_pca_transform.csv_preds  linear_regression_optimize.csv_preds  \\\n",
       "0                     4049.251112                           3468.159503   \n",
       "1                     4678.721028                           5106.497046   \n",
       "2                     2622.801092                           2269.888154   \n",
       "3                     2867.575270                           2352.883213   \n",
       "4                     4484.493551                           4192.275029   \n",
       "\n",
       "   linear_submission.csv_preds  min_max_transform.csv_preds  \\\n",
       "0                  1579.906222                  3985.164826   \n",
       "1                  1337.512249                  4669.210328   \n",
       "2                  1264.625906                  2476.244098   \n",
       "3                  1426.434558                  2436.543743   \n",
       "4                  1196.620070                  3888.435153   \n",
       "\n",
       "   only12features.csv_preds  pca_transform.csv_preds  \\\n",
       "0               3500.907640              3266.730539   \n",
       "1               4278.945332              3758.733251   \n",
       "2               2188.574519              2485.916510   \n",
       "3               2458.957132              3404.879579   \n",
       "4               4151.030574              4412.710841   \n",
       "\n",
       "   pls_regression.csv_preds  scaled_linear_regression.csv_preds  \\\n",
       "0               4102.155864                         3985.164826   \n",
       "1               4620.541863                         4669.210328   \n",
       "2               2405.937533                         2476.244098   \n",
       "3               2426.828035                         2436.543743   \n",
       "4               3949.167034                         3888.435153   \n",
       "\n",
       "   select_and_pca.csv_preds  selected_features_linear_regression.csv_preds  \\\n",
       "0               3470.930521                                    3675.130502   \n",
       "1               4168.103984                                    4577.474716   \n",
       "2               2221.544384                                    1957.172257   \n",
       "3               2991.636010                                    2578.392441   \n",
       "4               3902.876410                                    3393.041979   \n",
       "\n",
       "   stacking_Results.csv_preds  \n",
       "0                 3985.117815  \n",
       "1                 4669.127305  \n",
       "2                 2476.242449  \n",
       "3                 2436.566450  \n",
       "4                 3888.429581  "
      ]
     },
     "execution_count": 5,
     "metadata": {},
     "output_type": "execute_result"
    }
   ],
   "source": [
    "preds_df.head()"
   ]
  },
  {
   "cell_type": "code",
   "execution_count": 31,
   "metadata": {
    "collapsed": true
   },
   "outputs": [],
   "source": [
    "# final_preds = preds_df.mean(axis=1)"
   ]
  },
  {
   "cell_type": "code",
   "execution_count": 6,
   "metadata": {
    "collapsed": true
   },
   "outputs": [],
   "source": [
    "final_preds = (preds_df['ensemblesubmission.csv_preds'] + preds_df['pls_regression.csv_preds']) / 2.0"
   ]
  },
  {
   "cell_type": "code",
   "execution_count": 7,
   "metadata": {
    "collapsed": false
   },
   "outputs": [],
   "source": [
    "%run scripts/helper.py"
   ]
  },
  {
   "cell_type": "code",
   "execution_count": 8,
   "metadata": {
    "collapsed": true
   },
   "outputs": [],
   "source": [
    "make_submission(index, final_preds, 'ensemble_iter4.csv')"
   ]
  },
  {
   "cell_type": "code",
   "execution_count": null,
   "metadata": {
    "collapsed": true
   },
   "outputs": [],
   "source": []
  }
 ],
 "metadata": {
  "kernelspec": {
   "display_name": "Python 2",
   "language": "python",
   "name": "python2"
  },
  "language_info": {
   "codemirror_mode": {
    "name": "ipython",
    "version": 2
   },
   "file_extension": ".py",
   "mimetype": "text/x-python",
   "name": "python",
   "nbconvert_exporter": "python",
   "pygments_lexer": "ipython2",
   "version": "2.7.6"
  }
 },
 "nbformat": 4,
 "nbformat_minor": 0
}
