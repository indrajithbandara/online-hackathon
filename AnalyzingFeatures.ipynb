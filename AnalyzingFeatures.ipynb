{
 "cells": [
  {
   "cell_type": "code",
   "execution_count": 97,
   "metadata": {
    "collapsed": true
   },
   "outputs": [],
   "source": [
    "import seaborn as sns\n",
    "import matplotlib.pyplot as plt\n",
    "import warnings\n",
    "warnings.filterwarnings('ignore')"
   ]
  },
  {
   "cell_type": "code",
   "execution_count": 139,
   "metadata": {
    "collapsed": false
   },
   "outputs": [],
   "source": [
    "%run scripts/helper.py\n",
    "%matplotlib inline"
   ]
  },
  {
   "cell_type": "code",
   "execution_count": 2,
   "metadata": {
    "collapsed": true
   },
   "outputs": [],
   "source": [
    "magazino_train = load_data('./train.csv/train.csv', index_col='id')\n",
    "magazino_test = load_data('./test.csv', index_col='id')"
   ]
  },
  {
   "cell_type": "code",
   "execution_count": 3,
   "metadata": {
    "collapsed": true
   },
   "outputs": [],
   "source": [
    "magazino_train.columns = trim_column(magazino_train)\n",
    "magazino_test.columns = trim_column(magazino_test)"
   ]
  },
  {
   "cell_type": "code",
   "execution_count": 28,
   "metadata": {
    "collapsed": true
   },
   "outputs": [],
   "source": [
    "y = get_target(magazino_train, 'shares')"
   ]
  },
  {
   "cell_type": "code",
   "execution_count": 4,
   "metadata": {
    "collapsed": false
   },
   "outputs": [
    {
     "data": {
      "text/plain": [
       "Index([u'n_tokens_title', u'n_tokens_content', u'n_unique_tokens', u'n_non_stop_words', u'n_non_stop_unique_tokens', u'num_hrefs', u'num_self_hrefs', u'num_imgs', u'num_videos', u'average_token_length', u'num_keywords', u'category_article', u'kw_min_min', u'kw_max_min', u'kw_avg_min', u'kw_min_max', u'kw_max_max', u'kw_avg_max', u'kw_min_avg', u'kw_max_avg', u'kw_avg_avg', u'self_reference_min_shares', u'self_reference_max_shares', u'self_reference_avg_sharess', u'day_of_publishing', u'lda_00', u'lda_01', u'lda_02', u'lda_03', u'lda_04', u'global_subjectivity', u'global_sentiment_polarity', u'global_rate_positive_words', u'global_rate_negative_words', u'rate_positive_words', u'rate_negative_words', u'avg_positive_polarity', u'min_positive_polarity', u'max_positive_polarity', u'avg_negative_polarity', u'min_negative_polarity', u'max_negative_polarity', u'title_subjectivity', u'title_sentiment_polarity', u'abs_title_subjectivity', u'abs_title_sentiment_polarity', u'shares'], dtype='object')"
      ]
     },
     "execution_count": 4,
     "metadata": {},
     "output_type": "execute_result"
    }
   ],
   "source": [
    "magazino_train.columns"
   ]
  },
  {
   "cell_type": "code",
   "execution_count": 5,
   "metadata": {
    "collapsed": true
   },
   "outputs": [],
   "source": [
    "# lets analyze day of publishing variable with shares\n",
    "m = magazino_train.groupby(['day_of_publishing'])"
   ]
  },
  {
   "cell_type": "code",
   "execution_count": 7,
   "metadata": {
    "collapsed": false
   },
   "outputs": [
    {
     "data": {
      "text/plain": [
       "day_of_publishing\n",
       "Friday               3591\n",
       "Monday               4248\n",
       "Saturday             1478\n",
       "Sunday               1690\n",
       "Thursday             4651\n",
       "Tuesday              4566\n",
       "Wednesday            4651\n",
       "dtype: int64"
      ]
     },
     "execution_count": 7,
     "metadata": {},
     "output_type": "execute_result"
    }
   ],
   "source": [
    "m.size()"
   ]
  },
  {
   "cell_type": "code",
   "execution_count": 16,
   "metadata": {
    "collapsed": false
   },
   "outputs": [
    {
     "data": {
      "text/plain": [
       "count      4248.000000\n",
       "mean       3799.951036\n",
       "std       17323.240526\n",
       "min           4.000000\n",
       "25%         918.000000\n",
       "50%        1400.000000\n",
       "75%        2700.000000\n",
       "max      690400.000000\n",
       "Name: shares, dtype: float64"
      ]
     },
     "execution_count": 16,
     "metadata": {},
     "output_type": "execute_result"
    }
   ],
   "source": [
    "m.get_group('Monday').shares.describe()"
   ]
  },
  {
   "cell_type": "code",
   "execution_count": 17,
   "metadata": {
    "collapsed": false
   },
   "outputs": [
    {
     "data": {
      "text/plain": [
       "count      4566.000000\n",
       "mean       3176.082129\n",
       "std        9503.604192\n",
       "min           5.000000\n",
       "25%         906.000000\n",
       "50%        1400.000000\n",
       "75%        2600.000000\n",
       "max      306100.000000\n",
       "Name: shares, dtype: float64"
      ]
     },
     "execution_count": 17,
     "metadata": {},
     "output_type": "execute_result"
    }
   ],
   "source": [
    "m.get_group('Tuesday').shares.describe()"
   ]
  },
  {
   "cell_type": "code",
   "execution_count": 18,
   "metadata": {
    "collapsed": false
   },
   "outputs": [
    {
     "data": {
      "text/plain": [
       "count      4651.000000\n",
       "mean       3203.566115\n",
       "std       10429.828578\n",
       "min          42.000000\n",
       "25%         916.000000\n",
       "50%        1300.000000\n",
       "75%        2500.000000\n",
       "max      441000.000000\n",
       "Name: shares, dtype: float64"
      ]
     },
     "execution_count": 18,
     "metadata": {},
     "output_type": "execute_result"
    }
   ],
   "source": [
    "m.get_group('Wednesday').shares.describe()"
   ]
  },
  {
   "cell_type": "code",
   "execution_count": 19,
   "metadata": {
    "collapsed": false
   },
   "outputs": [
    {
     "data": {
      "text/plain": [
       "count      4651.000000\n",
       "mean       3136.888841\n",
       "std        7707.936442\n",
       "min          23.000000\n",
       "25%         887.000000\n",
       "50%        1300.000000\n",
       "75%        2600.000000\n",
       "max      158900.000000\n",
       "Name: shares, dtype: float64"
      ]
     },
     "execution_count": 19,
     "metadata": {},
     "output_type": "execute_result"
    }
   ],
   "source": [
    "m.get_group('Thursday').shares.describe()"
   ]
  },
  {
   "cell_type": "code",
   "execution_count": 20,
   "metadata": {
    "collapsed": false
   },
   "outputs": [
    {
     "data": {
      "text/plain": [
       "count      3591.000000\n",
       "mean       3284.901142\n",
       "std        8809.404925\n",
       "min          22.000000\n",
       "25%         973.000000\n",
       "50%        1400.000000\n",
       "75%        2700.000000\n",
       "max      233400.000000\n",
       "Name: shares, dtype: float64"
      ]
     },
     "execution_count": 20,
     "metadata": {},
     "output_type": "execute_result"
    }
   ],
   "source": [
    "m.get_group('Friday').shares.describe()"
   ]
  },
  {
   "cell_type": "code",
   "execution_count": 21,
   "metadata": {
    "collapsed": false
   },
   "outputs": [
    {
     "data": {
      "text/plain": [
       "count      1478.000000\n",
       "mean       4111.504060\n",
       "std       17204.191234\n",
       "min          49.000000\n",
       "25%        1300.000000\n",
       "50%        2000.000000\n",
       "75%        3600.000000\n",
       "max      617900.000000\n",
       "Name: shares, dtype: float64"
      ]
     },
     "execution_count": 21,
     "metadata": {},
     "output_type": "execute_result"
    }
   ],
   "source": [
    "m.get_group('Saturday').shares.describe()"
   ]
  },
  {
   "cell_type": "code",
   "execution_count": 22,
   "metadata": {
    "collapsed": false
   },
   "outputs": [
    {
     "data": {
      "text/plain": [
       "count     1690.000000\n",
       "mean      3807.247337\n",
       "std       6418.436511\n",
       "min         89.000000\n",
       "25%       1200.000000\n",
       "50%       1900.000000\n",
       "75%       3700.000000\n",
       "max      83300.000000\n",
       "Name: shares, dtype: float64"
      ]
     },
     "execution_count": 22,
     "metadata": {},
     "output_type": "execute_result"
    }
   ],
   "source": [
    "m.get_group('Sunday').shares.describe()"
   ]
  },
  {
   "cell_type": "code",
   "execution_count": 23,
   "metadata": {
    "collapsed": true
   },
   "outputs": [],
   "source": [
    "features = return_features(magazino_train)\n",
    "features_test = return_features(magazino_test)"
   ]
  },
  {
   "cell_type": "code",
   "execution_count": 24,
   "metadata": {
    "collapsed": false
   },
   "outputs": [
    {
     "name": "stderr",
     "output_type": "stream",
     "text": [
      "C:\\Anaconda\\lib\\site-packages\\IPython\\kernel\\__main__.py:7: SettingWithCopyWarning: \n",
      "A value is trying to be set on a copy of a slice from a DataFrame.\n",
      "Try using .loc[row_indexer,col_indexer] = value instead\n",
      "\n",
      "See the the caveats in the documentation: http://pandas.pydata.org/pandas-docs/stable/indexing.html#indexing-view-versus-copy\n"
     ]
    }
   ],
   "source": [
    "def checkday(x):\n",
    "    if x == 'Monday' or x == 'Saturday':\n",
    "        return 1\n",
    "    else:\n",
    "        return 0\n",
    "    \n",
    "features['is_mon_or_sat'] = magazino_train.day_of_publishing.map(checkday)"
   ]
  },
  {
   "cell_type": "code",
   "execution_count": 27,
   "metadata": {
    "collapsed": false
   },
   "outputs": [
    {
     "name": "stderr",
     "output_type": "stream",
     "text": [
      "C:\\Anaconda\\lib\\site-packages\\IPython\\kernel\\__main__.py:1: SettingWithCopyWarning: \n",
      "A value is trying to be set on a copy of a slice from a DataFrame.\n",
      "Try using .loc[row_indexer,col_indexer] = value instead\n",
      "\n",
      "See the the caveats in the documentation: http://pandas.pydata.org/pandas-docs/stable/indexing.html#indexing-view-versus-copy\n",
      "  if __name__ == '__main__':\n"
     ]
    }
   ],
   "source": [
    "features_test['is_mon_or_sat'] = magazino_test.day_of_publishing.map(checkday)"
   ]
  },
  {
   "cell_type": "code",
   "execution_count": 106,
   "metadata": {
    "collapsed": true
   },
   "outputs": [],
   "source": [
    "g = magazino_train.groupby('category_article')"
   ]
  },
  {
   "cell_type": "code",
   "execution_count": 107,
   "metadata": {
    "collapsed": false
   },
   "outputs": [
    {
     "data": {
      "image/png": "[encoded data removed]",
      "text/plain": [
       "<matplotlib.figure.Figure at 0x134c5c70>"
      ]
     },
     "metadata": {},
     "output_type": "display_data"
    }
   ],
   "source": [
    "g.shares.plot()\n",
    "plt.legend();"
   ]
  },
  {
   "cell_type": "code",
   "execution_count": 108,
   "metadata": {
    "collapsed": true
   },
   "outputs": [],
   "source": [
    "category_articles_train = pd.get_dummies(magazino_train.category_article, prefix='category_')\n",
    "category_articles_test = pd.get_dummies(magazino_test.category_article, prefix='category_')"
   ]
  },
  {
   "cell_type": "code",
   "execution_count": 109,
   "metadata": {
    "collapsed": true
   },
   "outputs": [],
   "source": [
    "features = pd.concat([features, category_articles_train], axis=1)\n",
    "features_test = pd.concat([features_test, category_articles_test], axis=1)"
   ]
  },
  {
   "cell_type": "code",
   "execution_count": 110,
   "metadata": {
    "collapsed": true
   },
   "outputs": [],
   "source": [
    "Xt, Xv, yt, yv = split_data(features, y)"
   ]
  },
  {
   "cell_type": "markdown",
   "metadata": {},
   "source": [
    "### Training"
   ]
  },
  {
   "cell_type": "code",
   "execution_count": 140,
   "metadata": {
    "collapsed": true
   },
   "outputs": [],
   "source": [
    "model = build_model(Xt, yt)"
   ]
  },
  {
   "cell_type": "code",
   "execution_count": 141,
   "metadata": {
    "collapsed": false
   },
   "outputs": [],
   "source": [
    "yt_pred = model.predict(Xt)"
   ]
  },
  {
   "cell_type": "code",
   "execution_count": 142,
   "metadata": {
    "collapsed": false
   },
   "outputs": [
    {
     "name": "stdout",
     "output_type": "stream",
     "text": [
      "RMSE on training set 701.3115 \n"
     ]
    }
   ],
   "source": [
    "print 'RMSE on training set %0.4f ' %(RMSE(yt, yt_pred))"
   ]
  },
  {
   "cell_type": "code",
   "execution_count": 143,
   "metadata": {
    "collapsed": true
   },
   "outputs": [],
   "source": [
    "yv_pred = model.predict(Xv)"
   ]
  },
  {
   "cell_type": "code",
   "execution_count": 144,
   "metadata": {
    "collapsed": false
   },
   "outputs": [
    {
     "name": "stdout",
     "output_type": "stream",
     "text": [
      "RMSE on test set 8543.7965 \n"
     ]
    }
   ],
   "source": [
    "print 'RMSE on test set %0.4f ' %(RMSE(yv, yv_pred))"
   ]
  },
  {
   "cell_type": "code",
   "execution_count": 117,
   "metadata": {
    "collapsed": true
   },
   "outputs": [],
   "source": [
    "model = build_model(features, y)"
   ]
  },
  {
   "cell_type": "code",
   "execution_count": 118,
   "metadata": {
    "collapsed": true
   },
   "outputs": [],
   "source": [
    "final_preds = model.predict(features_test)"
   ]
  },
  {
   "cell_type": "code",
   "execution_count": 119,
   "metadata": {
    "collapsed": true
   },
   "outputs": [],
   "source": [
    "make_submission(magazino_test.index.values, final_preds, 'linear_regression_optimize.csv')"
   ]
  },
  {
   "cell_type": "code",
   "execution_count": null,
   "metadata": {
    "collapsed": true
   },
   "outputs": [],
   "source": []
  }
 ],
 "metadata": {
  "kernelspec": {
   "display_name": "Python 2",
   "language": "python",
   "name": "python2"
  },
  "language_info": {
   "codemirror_mode": {
    "name": "ipython",
    "version": 2
   },
   "file_extension": ".py",
   "mimetype": "text/x-python",
   "name": "python",
   "nbconvert_exporter": "python",
   "pygments_lexer": "ipython2",
   "version": "2.7.6"
  }
 },
 "nbformat": 4,
 "nbformat_minor": 0
}
