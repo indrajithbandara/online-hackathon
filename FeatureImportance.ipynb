{
 "cells": [
  {
   "cell_type": "code",
   "execution_count": 1,
   "metadata": {
    "collapsed": true
   },
   "outputs": [],
   "source": [
    "%run scripts/helper.py"
   ]
  },
  {
   "cell_type": "code",
   "execution_count": 2,
   "metadata": {
    "collapsed": true
   },
   "outputs": [],
   "source": [
    "magazino_train = load_data('./train.csv/train.csv', index_col='id')\n",
    "magazino_test = load_data('./test.csv', index_col='id')"
   ]
  },
  {
   "cell_type": "code",
   "execution_count": 3,
   "metadata": {
    "collapsed": true
   },
   "outputs": [],
   "source": [
    "import statsmodels.api as sm"
   ]
  },
  {
   "cell_type": "code",
   "execution_count": 7,
   "metadata": {
    "collapsed": true
   },
   "outputs": [],
   "source": [
    "magazino_train.columns = trim_column(magazino_train)\n",
    "magazino_test.columns = trim_column(magazino_test)"
   ]
  },
  {
   "cell_type": "code",
   "execution_count": 34,
   "metadata": {
    "collapsed": false
   },
   "outputs": [],
   "source": [
    "features = return_features(magazino_train)\n",
    "y = magazino_train.shares"
   ]
  },
  {
   "cell_type": "code",
   "execution_count": 29,
   "metadata": {
    "collapsed": true
   },
   "outputs": [],
   "source": [
    "def statsmodels_linear_regression(features, y):\n",
    "    X = sm.add_constant(features, prepend=False)\n",
    "    model = sm.OLS(y, X)\n",
    "    res = model.fit()\n",
    "    return res"
   ]
  },
  {
   "cell_type": "code",
   "execution_count": 30,
   "metadata": {
    "collapsed": false
   },
   "outputs": [],
   "source": [
    "analysis1 = statsmodels_linear_regression(features, y)"
   ]
  },
  {
   "cell_type": "code",
   "execution_count": 32,
   "metadata": {
    "collapsed": false
   },
   "outputs": [
    {
     "name": "stdout",
     "output_type": "stream",
     "text": [
      "                            OLS Regression Results                            \n",
      "==============================================================================\n",
      "Dep. Variable:                 shares   R-squared:                       0.023\n",
      "Model:                            OLS   Adj. R-squared:                  0.021\n",
      "Method:                 Least Squares   F-statistic:                     13.31\n",
      "Date:                Sat, 11 Jul 2015   Prob (F-statistic):           2.12e-92\n",
      "Time:                        17:51:43   Log-Likelihood:            -2.6747e+05\n",
      "No. Observations:               24875   AIC:                         5.350e+05\n",
      "Df Residuals:                   24831   BIC:                         5.354e+05\n",
      "Df Model:                          43                                         \n",
      "================================================================================================\n",
      "                                   coef    std err          t      P>|t|      [95.0% Conf. Int.]\n",
      "------------------------------------------------------------------------------------------------\n",
      "n_tokens_title                  44.2107     35.235      1.255      0.210       -24.852   113.273\n",
      "n_tokens_content                 0.3614      0.277      1.305      0.192        -0.182     0.904\n",
      "n_unique_tokens               4987.7233   2360.666      2.113      0.035       360.678  9614.769\n",
      "n_non_stop_words             -1624.6873   6754.015     -0.241      0.810     -1.49e+04  1.16e+04\n",
      "n_non_stop_unique_tokens     -2528.5452   2013.452     -1.256      0.209     -6475.031  1417.940\n",
      "num_hrefs                       28.6251      8.289      3.453      0.001        12.378    44.872\n",
      "num_self_hrefs                 -45.0081     22.357     -2.013      0.044       -88.829    -1.187\n",
      "num_imgs                        15.9473     11.197      1.424      0.154        -5.999    37.894\n",
      "num_videos                       1.5232     19.541      0.078      0.938       -36.778    39.824\n",
      "average_token_length          -670.9181    300.901     -2.230      0.026     -1260.702   -81.135\n",
      "num_keywords                    88.1772     45.413      1.942      0.052        -0.836   177.190\n",
      "kw_min_min                       3.5766      2.023      1.768      0.077        -0.388     7.541\n",
      "kw_max_min                       0.0295      0.058      0.507      0.612        -0.085     0.144\n",
      "kw_avg_min                      -0.1746      0.357     -0.489      0.625        -0.874     0.525\n",
      "kw_min_max                      -0.0027      0.001     -1.855      0.064        -0.005     0.000\n",
      "kw_max_max                      -0.0005      0.001     -0.648      0.517        -0.002     0.001\n",
      "kw_avg_max                       0.0009      0.001      0.942      0.346        -0.001     0.003\n",
      "kw_min_avg                      -0.3331      0.093     -3.564      0.000        -0.516    -0.150\n",
      "kw_max_avg                      -0.1901      0.031     -6.198      0.000        -0.250    -0.130\n",
      "kw_avg_avg                       1.6328      0.171      9.570      0.000         1.298     1.967\n",
      "self_reference_min_shares        0.0435      0.009      4.710      0.000         0.025     0.062\n",
      "self_reference_max_shares        0.0115      0.005      2.256      0.024         0.002     0.022\n",
      "self_reference_avg_sharess      -0.0240      0.013     -1.865      0.062        -0.049     0.001\n",
      "lda_00                        1.538e+05      7e+06      0.022      0.982     -1.36e+07  1.39e+07\n",
      "lda_01                        1.542e+05      7e+06      0.022      0.982     -1.36e+07  1.39e+07\n",
      "lda_02                        1.549e+05      7e+06      0.022      0.982     -1.36e+07  1.39e+07\n",
      "lda_03                        1.545e+05      7e+06      0.022      0.982     -1.36e+07  1.39e+07\n",
      "lda_04                        1.547e+05      7e+06      0.022      0.982     -1.36e+07  1.39e+07\n",
      "global_subjectivity           3171.4271   1052.567      3.013      0.003      1108.333  5234.522\n",
      "global_sentiment_polarity     -386.6191   2062.241     -0.187      0.851     -4428.735  3655.497\n",
      "global_rate_positive_words   -1.555e+04   8804.946     -1.766      0.077     -3.28e+04  1712.100\n",
      "global_rate_negative_words    1.336e+04   1.67e+04      0.801      0.423     -1.93e+04  4.61e+04\n",
      "rate_positive_words           2926.6645   6570.245      0.445      0.656     -9951.406  1.58e+04\n",
      "rate_negative_words            973.6052   6632.006      0.147      0.883      -1.2e+04   1.4e+04\n",
      "avg_positive_polarity        -1335.0510   1471.429     -0.907      0.364     -4219.140  1549.038\n",
      "min_positive_polarity        -2014.0417   1378.765     -1.461      0.144     -4716.503   688.420\n",
      "avg_negative_polarity         -921.1568   1557.498     -0.591      0.554     -3973.946  2131.633\n",
      "min_negative_polarity         -405.8129    571.075     -0.711      0.477     -1525.154   713.528\n",
      "max_negative_polarity         -479.9495   1286.578     -0.373      0.709     -3001.719  2041.820\n",
      "title_subjectivity             149.7924    340.937      0.439      0.660      -518.464   818.049\n",
      "title_sentiment_polarity       558.1173    308.741      1.808      0.071       -47.034  1163.269\n",
      "abs_title_subjectivity         965.0224    449.727      2.146      0.032        83.531  1846.514\n",
      "abs_title_sentiment_polarity  -151.7980    492.626     -0.308      0.758     -1117.374   813.778\n",
      "const                        -1.561e+05      7e+06     -0.022      0.982     -1.39e+07  1.36e+07\n",
      "==============================================================================\n",
      "Omnibus:                    65469.666   Durbin-Watson:                   2.004\n",
      "Prob(Omnibus):                  0.000   Jarque-Bera (JB):       2321465107.271\n",
      "Skew:                          30.991   Prob(JB):                         0.00\n",
      "Kurtosis:                    1498.314   Cond. No.                     1.98e+11\n",
      "==============================================================================\n",
      "\n",
      "Warnings:\n",
      "[1] The condition number is large, 1.98e+11. This might indicate that there are\n",
      "strong multicollinearity or other numerical problems.\n"
     ]
    }
   ],
   "source": [
    "print analysis1.summary()"
   ]
  },
  {
   "cell_type": "code",
   "execution_count": 35,
   "metadata": {
    "collapsed": false
   },
   "outputs": [],
   "source": [
    "# remove feature with highest p-value\n",
    "features = features[features.columns.drop('max_positive_polarity')]"
   ]
  },
  {
   "cell_type": "code",
   "execution_count": 36,
   "metadata": {
    "collapsed": true
   },
   "outputs": [],
   "source": [
    "analysis2 = statsmodels_linear_regression(features, y)"
   ]
  },
  {
   "cell_type": "code",
   "execution_count": 37,
   "metadata": {
    "collapsed": false
   },
   "outputs": [
    {
     "name": "stdout",
     "output_type": "stream",
     "text": [
      "                            OLS Regression Results                            \n",
      "==============================================================================\n",
      "Dep. Variable:                 shares   R-squared:                       0.023\n",
      "Model:                            OLS   Adj. R-squared:                  0.021\n",
      "Method:                 Least Squares   F-statistic:                     13.31\n",
      "Date:                Sat, 11 Jul 2015   Prob (F-statistic):           2.12e-92\n",
      "Time:                        17:52:39   Log-Likelihood:            -2.6747e+05\n",
      "No. Observations:               24875   AIC:                         5.350e+05\n",
      "Df Residuals:                   24831   BIC:                         5.354e+05\n",
      "Df Model:                          43                                         \n",
      "================================================================================================\n",
      "                                   coef    std err          t      P>|t|      [95.0% Conf. Int.]\n",
      "------------------------------------------------------------------------------------------------\n",
      "n_tokens_title                  44.2107     35.235      1.255      0.210       -24.852   113.273\n",
      "n_tokens_content                 0.3614      0.277      1.305      0.192        -0.182     0.904\n",
      "n_unique_tokens               4987.7233   2360.666      2.113      0.035       360.678  9614.769\n",
      "n_non_stop_words             -1624.6873   6754.015     -0.241      0.810     -1.49e+04  1.16e+04\n",
      "n_non_stop_unique_tokens     -2528.5452   2013.452     -1.256      0.209     -6475.031  1417.940\n",
      "num_hrefs                       28.6251      8.289      3.453      0.001        12.378    44.872\n",
      "num_self_hrefs                 -45.0081     22.357     -2.013      0.044       -88.829    -1.187\n",
      "num_imgs                        15.9473     11.197      1.424      0.154        -5.999    37.894\n",
      "num_videos                       1.5232     19.541      0.078      0.938       -36.778    39.824\n",
      "average_token_length          -670.9181    300.901     -2.230      0.026     -1260.702   -81.135\n",
      "num_keywords                    88.1772     45.413      1.942      0.052        -0.836   177.190\n",
      "kw_min_min                       3.5766      2.023      1.768      0.077        -0.388     7.541\n",
      "kw_max_min                       0.0295      0.058      0.507      0.612        -0.085     0.144\n",
      "kw_avg_min                      -0.1746      0.357     -0.489      0.625        -0.874     0.525\n",
      "kw_min_max                      -0.0027      0.001     -1.855      0.064        -0.005     0.000\n",
      "kw_max_max                      -0.0005      0.001     -0.648      0.517        -0.002     0.001\n",
      "kw_avg_max                       0.0009      0.001      0.942      0.346        -0.001     0.003\n",
      "kw_min_avg                      -0.3331      0.093     -3.564      0.000        -0.516    -0.150\n",
      "kw_max_avg                      -0.1901      0.031     -6.198      0.000        -0.250    -0.130\n",
      "kw_avg_avg                       1.6328      0.171      9.570      0.000         1.298     1.967\n",
      "self_reference_min_shares        0.0435      0.009      4.710      0.000         0.025     0.062\n",
      "self_reference_max_shares        0.0115      0.005      2.256      0.024         0.002     0.022\n",
      "self_reference_avg_sharess      -0.0240      0.013     -1.865      0.062        -0.049     0.001\n",
      "lda_00                        1.538e+05      7e+06      0.022      0.982     -1.36e+07  1.39e+07\n",
      "lda_01                        1.542e+05      7e+06      0.022      0.982     -1.36e+07  1.39e+07\n",
      "lda_02                        1.549e+05      7e+06      0.022      0.982     -1.36e+07  1.39e+07\n",
      "lda_03                        1.545e+05      7e+06      0.022      0.982     -1.36e+07  1.39e+07\n",
      "lda_04                        1.547e+05      7e+06      0.022      0.982     -1.36e+07  1.39e+07\n",
      "global_subjectivity           3171.4271   1052.567      3.013      0.003      1108.333  5234.522\n",
      "global_sentiment_polarity     -386.6191   2062.241     -0.187      0.851     -4428.735  3655.497\n",
      "global_rate_positive_words   -1.555e+04   8804.946     -1.766      0.077     -3.28e+04  1712.100\n",
      "global_rate_negative_words    1.336e+04   1.67e+04      0.801      0.423     -1.93e+04  4.61e+04\n",
      "rate_positive_words           2926.6645   6570.245      0.445      0.656     -9951.406  1.58e+04\n",
      "rate_negative_words            973.6052   6632.006      0.147      0.883      -1.2e+04   1.4e+04\n",
      "avg_positive_polarity        -1335.0510   1471.429     -0.907      0.364     -4219.140  1549.038\n",
      "min_positive_polarity        -2014.0417   1378.765     -1.461      0.144     -4716.503   688.420\n",
      "avg_negative_polarity         -921.1568   1557.498     -0.591      0.554     -3973.946  2131.633\n",
      "min_negative_polarity         -405.8129    571.075     -0.711      0.477     -1525.154   713.528\n",
      "max_negative_polarity         -479.9495   1286.578     -0.373      0.709     -3001.719  2041.820\n",
      "title_subjectivity             149.7924    340.937      0.439      0.660      -518.464   818.049\n",
      "title_sentiment_polarity       558.1173    308.741      1.808      0.071       -47.034  1163.269\n",
      "abs_title_subjectivity         965.0224    449.727      2.146      0.032        83.531  1846.514\n",
      "abs_title_sentiment_polarity  -151.7980    492.626     -0.308      0.758     -1117.374   813.778\n",
      "const                        -1.561e+05      7e+06     -0.022      0.982     -1.39e+07  1.36e+07\n",
      "==============================================================================\n",
      "Omnibus:                    65469.666   Durbin-Watson:                   2.004\n",
      "Prob(Omnibus):                  0.000   Jarque-Bera (JB):       2321465107.271\n",
      "Skew:                          30.991   Prob(JB):                         0.00\n",
      "Kurtosis:                    1498.314   Cond. No.                     1.98e+11\n",
      "==============================================================================\n",
      "\n",
      "Warnings:\n",
      "[1] The condition number is large, 1.98e+11. This might indicate that there are\n",
      "strong multicollinearity or other numerical problems.\n"
     ]
    }
   ],
   "source": [
    "print analysis2.summary()"
   ]
  },
  {
   "cell_type": "code",
   "execution_count": 39,
   "metadata": {
    "collapsed": false
   },
   "outputs": [],
   "source": [
    "features = features[features.columns.drop(['lda_00', 'lda_01', 'lda_02', 'lda_03', 'lda_04'])]"
   ]
  },
  {
   "cell_type": "code",
   "execution_count": 40,
   "metadata": {
    "collapsed": true
   },
   "outputs": [],
   "source": [
    "analysis3 = statsmodels_linear_regression(features, y)"
   ]
  },
  {
   "cell_type": "code",
   "execution_count": 41,
   "metadata": {
    "collapsed": false
   },
   "outputs": [
    {
     "name": "stdout",
     "output_type": "stream",
     "text": [
      "                            OLS Regression Results                            \n",
      "==============================================================================\n",
      "Dep. Variable:                 shares   R-squared:                       0.022\n",
      "Model:                            OLS   Adj. R-squared:                  0.021\n",
      "Method:                 Least Squares   F-statistic:                     14.83\n",
      "Date:                Sat, 11 Jul 2015   Prob (F-statistic):           1.35e-93\n",
      "Time:                        17:55:12   Log-Likelihood:            -2.6748e+05\n",
      "No. Observations:               24875   AIC:                         5.350e+05\n",
      "Df Residuals:                   24836   BIC:                         5.353e+05\n",
      "Df Model:                          38                                         \n",
      "================================================================================================\n",
      "                                   coef    std err          t      P>|t|      [95.0% Conf. Int.]\n",
      "------------------------------------------------------------------------------------------------\n",
      "n_tokens_title                  34.1426     35.017      0.975      0.330       -34.494   102.779\n",
      "n_tokens_content                 0.3165      0.276      1.145      0.252        -0.225     0.858\n",
      "n_unique_tokens               4357.0259   2289.662      1.903      0.057      -130.848  8844.900\n",
      "n_non_stop_words             -1516.3707    789.683     -1.920      0.055     -3064.197    31.456\n",
      "n_non_stop_unique_tokens     -2259.0571   1971.408     -1.146      0.252     -6123.134  1605.020\n",
      "num_hrefs                       29.5715      8.237      3.590      0.000        13.427    45.716\n",
      "num_self_hrefs                 -42.6616     22.160     -1.925      0.054       -86.097     0.774\n",
      "num_imgs                        13.5913     11.010      1.234      0.217        -7.989    35.171\n",
      "num_videos                      -1.1905     19.076     -0.062      0.950       -38.581    36.200\n",
      "average_token_length          -702.0931    283.543     -2.476      0.013     -1257.855  -146.332\n",
      "num_keywords                   100.6460     44.603      2.256      0.024        13.222   188.070\n",
      "kw_min_min                       3.6775      2.022      1.818      0.069        -0.287     7.642\n",
      "kw_max_min                       0.0216      0.058      0.373      0.709        -0.092     0.135\n",
      "kw_avg_min                      -0.1133      0.354     -0.320      0.749        -0.808     0.581\n",
      "kw_min_max                      -0.0028      0.001     -1.969      0.049        -0.006 -1.25e-05\n",
      "kw_max_max                      -0.0006      0.001     -0.919      0.358        -0.002     0.001\n",
      "kw_avg_max                       0.0015      0.001      1.600      0.110        -0.000     0.003\n",
      "kw_min_avg                      -0.3310      0.091     -3.626      0.000        -0.510    -0.152\n",
      "kw_max_avg                      -0.1909      0.029     -6.484      0.000        -0.249    -0.133\n",
      "kw_avg_avg                       1.6345      0.157     10.409      0.000         1.327     1.942\n",
      "self_reference_min_shares        0.0436      0.009      4.722      0.000         0.025     0.062\n",
      "self_reference_max_shares        0.0116      0.005      2.265      0.024         0.002     0.022\n",
      "self_reference_avg_sharess      -0.0239      0.013     -1.859      0.063        -0.049     0.001\n",
      "global_subjectivity           3217.3431   1045.417      3.078      0.002      1168.263  5266.423\n",
      "global_sentiment_polarity     -487.3447   2060.529     -0.237      0.813     -4526.104  3551.414\n",
      "global_rate_positive_words   -1.409e+04   8777.029     -1.605      0.108     -3.13e+04  3113.823\n",
      "global_rate_negative_words    1.169e+04   1.66e+04      0.702      0.482     -2.09e+04  4.43e+04\n",
      "rate_positive_words           3272.3173   1704.432      1.920      0.055       -68.471  6613.106\n",
      "rate_negative_words           1273.1566   1947.815      0.654      0.513     -2544.677  5090.990\n",
      "avg_positive_polarity        -1300.0509   1469.115     -0.885      0.376     -4179.603  1579.501\n",
      "min_positive_polarity        -2077.8412   1374.653     -1.512      0.131     -4772.244   616.561\n",
      "avg_negative_polarity         -678.4313   1547.991     -0.438      0.661     -3712.585  2355.722\n",
      "min_negative_polarity         -375.1913    569.677     -0.659      0.510     -1491.792   741.410\n",
      "max_negative_polarity         -634.5463   1283.070     -0.495      0.621     -3149.439  1880.347\n",
      "title_subjectivity             119.3796    340.665      0.350      0.726      -548.343   787.102\n",
      "title_sentiment_polarity       570.2428    308.714      1.847      0.065       -34.854  1175.340\n",
      "abs_title_subjectivity         980.5570    448.975      2.184      0.029       100.539  1860.575\n",
      "abs_title_sentiment_polarity  -136.8089    492.602     -0.278      0.781     -1102.338   828.720\n",
      "const                        -1767.7357    914.450     -1.933      0.053     -3560.111    24.640\n",
      "==============================================================================\n",
      "Omnibus:                    65464.255   Durbin-Watson:                   2.004\n",
      "Prob(Omnibus):                  0.000   Jarque-Bera (JB):       2320354772.025\n",
      "Skew:                          30.984   Prob(JB):                         0.00\n",
      "Kurtosis:                    1497.956   Cond. No.                     2.07e+08\n",
      "==============================================================================\n",
      "\n",
      "Warnings:\n",
      "[1] The condition number is large, 2.07e+08. This might indicate that there are\n",
      "strong multicollinearity or other numerical problems.\n"
     ]
    }
   ],
   "source": [
    "print analysis3.summary()"
   ]
  },
  {
   "cell_type": "code",
   "execution_count": 42,
   "metadata": {
    "collapsed": true
   },
   "outputs": [],
   "source": [
    "features = features[features.columns.drop(['num_videos', 'kw_max_min', 'kw_avg_min', 'global_sentiment_polarity',\n",
    "                                           'global_rate_negative_words', 'rate_negative_words', 'avg_negative_polarity',\n",
    "                                           'title_subjectivity', 'abs_title_sentiment_polarity'])]"
   ]
  },
  {
   "cell_type": "code",
   "execution_count": 43,
   "metadata": {
    "collapsed": true
   },
   "outputs": [],
   "source": [
    "analysis4 = statsmodels_linear_regression(features, y)"
   ]
  },
  {
   "cell_type": "code",
   "execution_count": 44,
   "metadata": {
    "collapsed": false
   },
   "outputs": [
    {
     "name": "stdout",
     "output_type": "stream",
     "text": [
      "                            OLS Regression Results                            \n",
      "==============================================================================\n",
      "Dep. Variable:                 shares   R-squared:                       0.022\n",
      "Model:                            OLS   Adj. R-squared:                  0.021\n",
      "Method:                 Least Squares   F-statistic:                     19.34\n",
      "Date:                Sat, 11 Jul 2015   Prob (F-statistic):           1.40e-98\n",
      "Time:                        17:59:31   Log-Likelihood:            -2.6748e+05\n",
      "No. Observations:               24875   AIC:                         5.350e+05\n",
      "Df Residuals:                   24845   BIC:                         5.353e+05\n",
      "Df Model:                          29                                         \n",
      "==============================================================================================\n",
      "                                 coef    std err          t      P>|t|      [95.0% Conf. Int.]\n",
      "----------------------------------------------------------------------------------------------\n",
      "n_tokens_title                38.2845     34.855      1.098      0.272       -30.034   106.603\n",
      "n_tokens_content               0.2858      0.270      1.057      0.291        -0.244     0.816\n",
      "n_unique_tokens             3447.8891   2092.435      1.648      0.099      -653.409  7549.187\n",
      "n_non_stop_words           -1447.9474    777.733     -1.862      0.063     -2972.349    76.455\n",
      "n_non_stop_unique_tokens   -1390.5590   1801.013     -0.772      0.440     -4920.652  2139.534\n",
      "num_hrefs                     27.5044      8.090      3.400      0.001        11.648    43.361\n",
      "num_self_hrefs               -39.3925     21.995     -1.791      0.073       -82.504     3.719\n",
      "num_imgs                      15.0023     10.778      1.392      0.164        -6.123    36.128\n",
      "average_token_length        -405.9838    136.584     -2.972      0.003      -673.696  -138.272\n",
      "num_keywords                  98.3078     44.264      2.221      0.026        11.547   185.068\n",
      "kw_min_min                     3.6951      2.017      1.832      0.067        -0.258     7.648\n",
      "kw_min_max                    -0.0028      0.001     -1.978      0.048        -0.006 -2.57e-05\n",
      "kw_max_max                    -0.0006      0.001     -0.915      0.360        -0.002     0.001\n",
      "kw_avg_max                     0.0015      0.001      1.685      0.092        -0.000     0.003\n",
      "kw_min_avg                    -0.3289      0.090     -3.659      0.000        -0.505    -0.153\n",
      "kw_max_avg                    -0.1882      0.026     -7.169      0.000        -0.240    -0.137\n",
      "kw_avg_avg                     1.6296      0.150     10.830      0.000         1.335     1.925\n",
      "self_reference_min_shares      0.0436      0.009      4.742      0.000         0.026     0.062\n",
      "self_reference_max_shares      0.0116      0.005      2.278      0.023         0.002     0.022\n",
      "self_reference_avg_sharess    -0.0239      0.013     -1.866      0.062        -0.049     0.001\n",
      "global_subjectivity         3690.7872    971.937      3.797      0.000      1785.734  5595.841\n",
      "global_rate_positive_words -1.028e+04   6098.268     -1.686      0.092     -2.22e+04  1670.208\n",
      "rate_positive_words         1106.0383    664.916      1.663      0.096      -197.237  2409.314\n",
      "avg_positive_polarity      -1401.5884   1054.637     -1.329      0.184     -3468.741   665.564\n",
      "min_positive_polarity      -1899.5121   1335.447     -1.422      0.155     -4517.067   718.043\n",
      "min_negative_polarity       -664.9203    353.226     -1.882      0.060     -1357.265    27.424\n",
      "max_negative_polarity      -1079.2872    841.139     -1.283      0.199     -2727.969   569.395\n",
      "title_sentiment_polarity     500.3486    284.123      1.761      0.078       -56.549  1057.246\n",
      "abs_title_subjectivity       905.7035    401.946      2.253      0.024       117.866  1693.541\n",
      "const                      -1653.7588    895.039     -1.848      0.065     -3408.088   100.571\n",
      "==============================================================================\n",
      "Omnibus:                    65462.482   Durbin-Watson:                   2.005\n",
      "Prob(Omnibus):                  0.000   Jarque-Bera (JB):       2320045235.202\n",
      "Skew:                          30.982   Prob(JB):                         0.00\n",
      "Kurtosis:                    1497.857   Cond. No.                     7.09e+07\n",
      "==============================================================================\n",
      "\n",
      "Warnings:\n",
      "[1] The condition number is large, 7.09e+07. This might indicate that there are\n",
      "strong multicollinearity or other numerical problems.\n"
     ]
    }
   ],
   "source": [
    "print analysis4.summary()"
   ]
  },
  {
   "cell_type": "code",
   "execution_count": 46,
   "metadata": {
    "collapsed": false
   },
   "outputs": [],
   "source": [
    "features = features[features.columns.drop(['n_tokens_title', 'n_tokens_content', 'n_non_stop_unique_tokens',\n",
    "                                           'kw_max_max', 'avg_positive_polarity', 'min_positive_polarity',\n",
    "                                           'max_negative_polarity'])]"
   ]
  },
  {
   "cell_type": "code",
   "execution_count": 47,
   "metadata": {
    "collapsed": true
   },
   "outputs": [],
   "source": [
    "analysis5 = statsmodels_linear_regression(features, y)"
   ]
  },
  {
   "cell_type": "code",
   "execution_count": 48,
   "metadata": {
    "collapsed": false
   },
   "outputs": [
    {
     "name": "stdout",
     "output_type": "stream",
     "text": [
      "                            OLS Regression Results                            \n",
      "==============================================================================\n",
      "Dep. Variable:                 shares   R-squared:                       0.022\n",
      "Model:                            OLS   Adj. R-squared:                  0.021\n",
      "Method:                 Least Squares   F-statistic:                     24.94\n",
      "Date:                Sat, 11 Jul 2015   Prob (F-statistic):          8.27e-101\n",
      "Time:                        18:33:31   Log-Likelihood:            -2.6748e+05\n",
      "No. Observations:               24875   AIC:                         5.350e+05\n",
      "Df Residuals:                   24852   BIC:                         5.352e+05\n",
      "Df Model:                          22                                         \n",
      "==============================================================================================\n",
      "                                 coef    std err          t      P>|t|      [95.0% Conf. Int.]\n",
      "----------------------------------------------------------------------------------------------\n",
      "n_unique_tokens             1487.9086    862.411      1.725      0.084      -202.468  3178.286\n",
      "n_non_stop_words            -996.1155    580.432     -1.716      0.086     -2133.798   141.567\n",
      "num_hrefs                     29.8970      7.699      3.883      0.000        14.806    44.988\n",
      "num_self_hrefs               -37.1967     21.879     -1.700      0.089       -80.080     5.687\n",
      "num_imgs                      17.9161      9.935      1.803      0.071        -1.557    37.389\n",
      "average_token_length        -530.8454    129.076     -4.113      0.000      -783.843  -277.848\n",
      "num_keywords                  93.6137     43.755      2.139      0.032         7.851   179.376\n",
      "kw_min_min                     5.1077      1.266      4.033      0.000         2.626     7.590\n",
      "kw_min_max                    -0.0027      0.001     -1.919      0.055        -0.005  5.84e-05\n",
      "kw_avg_max                     0.0014      0.001      1.694      0.090        -0.000     0.003\n",
      "kw_min_avg                    -0.3270      0.090     -3.640      0.000        -0.503    -0.151\n",
      "kw_max_avg                    -0.1851      0.026     -7.097      0.000        -0.236    -0.134\n",
      "kw_avg_avg                     1.6074      0.149     10.800      0.000         1.316     1.899\n",
      "self_reference_min_shares      0.0432      0.009      4.698      0.000         0.025     0.061\n",
      "self_reference_max_shares      0.0115      0.005      2.256      0.024         0.002     0.021\n",
      "self_reference_avg_sharess    -0.0234      0.013     -1.826      0.068        -0.049     0.002\n",
      "global_subjectivity         2784.9912    892.865      3.119      0.002      1034.923  4535.060\n",
      "global_rate_positive_words -9220.1604   5826.929     -1.582      0.114     -2.06e+04  2200.966\n",
      "rate_positive_words         1269.7520    641.249      1.980      0.048        12.867  2526.637\n",
      "min_negative_polarity       -834.2605    325.044     -2.567      0.010     -1471.366  -197.155\n",
      "title_sentiment_polarity     455.2734    283.090      1.608      0.108       -99.600  1010.147\n",
      "abs_title_subjectivity       805.9944    396.580      2.032      0.042        28.674  1583.315\n",
      "const                      -1695.9377    670.477     -2.529      0.011     -3010.113  -381.762\n",
      "==============================================================================\n",
      "Omnibus:                    65472.516   Durbin-Watson:                   2.005\n",
      "Prob(Omnibus):                  0.000   Jarque-Bera (JB):       2321713429.468\n",
      "Skew:                          30.994   Prob(JB):                         0.00\n",
      "Kurtosis:                    1498.394   Cond. No.                     2.40e+07\n",
      "==============================================================================\n",
      "\n",
      "Warnings:\n",
      "[1] The condition number is large, 2.4e+07. This might indicate that there are\n",
      "strong multicollinearity or other numerical problems.\n"
     ]
    }
   ],
   "source": [
    "print analysis5.summary()"
   ]
  },
  {
   "cell_type": "code",
   "execution_count": 51,
   "metadata": {
    "collapsed": false
   },
   "outputs": [],
   "source": [
    "features = features[features.columns.drop(['global_rate_positive_words'])]"
   ]
  },
  {
   "cell_type": "code",
   "execution_count": 52,
   "metadata": {
    "collapsed": true
   },
   "outputs": [],
   "source": [
    "analysis6 = statsmodels_linear_regression(features, y)"
   ]
  },
  {
   "cell_type": "code",
   "execution_count": 53,
   "metadata": {
    "collapsed": false
   },
   "outputs": [
    {
     "name": "stdout",
     "output_type": "stream",
     "text": [
      "                            OLS Regression Results                            \n",
      "==============================================================================\n",
      "Dep. Variable:                 shares   R-squared:                       0.021\n",
      "Model:                            OLS   Adj. R-squared:                  0.021\n",
      "Method:                 Least Squares   F-statistic:                     26.00\n",
      "Date:                Sat, 11 Jul 2015   Prob (F-statistic):          5.35e-101\n",
      "Time:                        18:35:56   Log-Likelihood:            -2.6748e+05\n",
      "No. Observations:               24875   AIC:                         5.350e+05\n",
      "Df Residuals:                   24853   BIC:                         5.352e+05\n",
      "Df Model:                          21                                         \n",
      "==============================================================================================\n",
      "                                 coef    std err          t      P>|t|      [95.0% Conf. Int.]\n",
      "----------------------------------------------------------------------------------------------\n",
      "n_unique_tokens             1419.4917    861.353      1.648      0.099      -268.811  3107.794\n",
      "n_non_stop_words            -950.2963    579.727     -1.639      0.101     -2086.596   186.004\n",
      "num_hrefs                     30.6174      7.686      3.983      0.000        15.552    45.683\n",
      "num_self_hrefs               -39.4706     21.832     -1.808      0.071       -82.263     3.321\n",
      "num_imgs                      19.0091      9.911      1.918      0.055        -0.418    38.436\n",
      "average_token_length        -487.2978    126.112     -3.864      0.000      -734.485  -240.111\n",
      "num_keywords                  92.2137     43.747      2.108      0.035         6.466   177.961\n",
      "kw_min_min                     5.0153      1.265      3.965      0.000         2.536     7.495\n",
      "kw_min_max                    -0.0027      0.001     -1.943      0.052        -0.006  2.43e-05\n",
      "kw_avg_max                     0.0015      0.001      1.751      0.080        -0.000     0.003\n",
      "kw_min_avg                    -0.3266      0.090     -3.635      0.000        -0.503    -0.150\n",
      "kw_max_avg                    -0.1832      0.026     -7.032      0.000        -0.234    -0.132\n",
      "kw_avg_avg                     1.5958      0.149     10.735      0.000         1.304     1.887\n",
      "self_reference_min_shares      0.0433      0.009      4.711      0.000         0.025     0.061\n",
      "self_reference_max_shares      0.0115      0.005      2.256      0.024         0.002     0.021\n",
      "self_reference_avg_sharess    -0.0234      0.013     -1.826      0.068        -0.049     0.002\n",
      "global_subjectivity         2481.3752    872.030      2.846      0.004       772.144  4190.606\n",
      "rate_positive_words          710.7654    535.182      1.328      0.184      -338.223  1759.754\n",
      "min_negative_polarity       -726.4035    317.826     -2.286      0.022     -1349.362  -103.445\n",
      "title_sentiment_polarity     442.3991    282.982      1.563      0.118      -112.262   997.060\n",
      "abs_title_subjectivity       901.2610    391.995      2.299      0.022       132.927  1669.595\n",
      "const                      -1706.5390    670.464     -2.545      0.011     -3020.689  -392.389\n",
      "==============================================================================\n",
      "Omnibus:                    65474.877   Durbin-Watson:                   2.005\n",
      "Prob(Omnibus):                  0.000   Jarque-Bera (JB):       2322163420.108\n",
      "Skew:                          30.997   Prob(JB):                         0.00\n",
      "Kurtosis:                    1498.539   Cond. No.                     4.44e+06\n",
      "==============================================================================\n",
      "\n",
      "Warnings:\n",
      "[1] The condition number is large, 4.44e+06. This might indicate that there are\n",
      "strong multicollinearity or other numerical problems.\n"
     ]
    }
   ],
   "source": [
    "print analysis6.summary()"
   ]
  },
  {
   "cell_type": "code",
   "execution_count": 54,
   "metadata": {
    "collapsed": true
   },
   "outputs": [],
   "source": [
    "features = features[features.columns.drop(['n_non_stop_words', 'rate_positive_words',\n",
    "                                           'title_sentiment_polarity'])]"
   ]
  },
  {
   "cell_type": "code",
   "execution_count": 55,
   "metadata": {
    "collapsed": true
   },
   "outputs": [],
   "source": [
    "analysis7 = statsmodels_linear_regression(features, y)"
   ]
  },
  {
   "cell_type": "code",
   "execution_count": 56,
   "metadata": {
    "collapsed": false
   },
   "outputs": [
    {
     "name": "stdout",
     "output_type": "stream",
     "text": [
      "                            OLS Regression Results                            \n",
      "==============================================================================\n",
      "Dep. Variable:                 shares   R-squared:                       0.021\n",
      "Model:                            OLS   Adj. R-squared:                  0.021\n",
      "Method:                 Least Squares   F-statistic:                     29.96\n",
      "Date:                Sat, 11 Jul 2015   Prob (F-statistic):          8.79e-102\n",
      "Time:                        18:38:02   Log-Likelihood:            -2.6749e+05\n",
      "No. Observations:               24875   AIC:                         5.350e+05\n",
      "Df Residuals:                   24856   BIC:                         5.352e+05\n",
      "Df Model:                          18                                         \n",
      "==============================================================================================\n",
      "                                 coef    std err          t      P>|t|      [95.0% Conf. Int.]\n",
      "----------------------------------------------------------------------------------------------\n",
      "n_unique_tokens                7.1564     16.183      0.442      0.658       -24.564    38.877\n",
      "num_hrefs                     28.7666      7.565      3.803      0.000        13.940    43.594\n",
      "num_self_hrefs               -38.1271     21.672     -1.759      0.079       -80.605     4.351\n",
      "num_imgs                      14.6748      9.511      1.543      0.123        -3.968    33.318\n",
      "average_token_length        -427.2529    113.590     -3.761      0.000      -649.896  -204.610\n",
      "num_keywords                  93.5155     43.729      2.139      0.032         7.803   179.228\n",
      "kw_min_min                     5.3096      1.257      4.223      0.000         2.845     7.774\n",
      "kw_min_max                    -0.0027      0.001     -1.934      0.053        -0.006  3.65e-05\n",
      "kw_avg_max                     0.0015      0.001      1.814      0.070        -0.000     0.003\n",
      "kw_min_avg                    -0.3351      0.090     -3.742      0.000        -0.511    -0.160\n",
      "kw_max_avg                    -0.1869      0.026     -7.227      0.000        -0.238    -0.136\n",
      "kw_avg_avg                     1.6275      0.147     11.107      0.000         1.340     1.915\n",
      "self_reference_min_shares      0.0436      0.009      4.736      0.000         0.026     0.062\n",
      "self_reference_max_shares      0.0115      0.005      2.270      0.023         0.002     0.022\n",
      "self_reference_avg_sharess    -0.0236      0.013     -1.844      0.065        -0.049     0.001\n",
      "global_subjectivity         3048.2277    819.635      3.719      0.000      1441.694  4654.761\n",
      "min_negative_polarity       -371.3588    273.428     -1.358      0.174      -907.295   164.577\n",
      "abs_title_subjectivity       723.9436    380.892      1.901      0.057       -22.627  1470.514\n",
      "const                      -1704.8935    661.312     -2.578      0.010     -3001.104  -408.683\n",
      "==============================================================================\n",
      "Omnibus:                    65475.361   Durbin-Watson:                   2.005\n",
      "Prob(Omnibus):                  0.000   Jarque-Bera (JB):       2322200462.952\n",
      "Skew:                          30.998   Prob(JB):                         0.00\n",
      "Kurtosis:                    1498.551   Cond. No.                     3.40e+06\n",
      "==============================================================================\n",
      "\n",
      "Warnings:\n",
      "[1] The condition number is large, 3.4e+06. This might indicate that there are\n",
      "strong multicollinearity or other numerical problems.\n"
     ]
    }
   ],
   "source": [
    "print analysis7.summary()"
   ]
  },
  {
   "cell_type": "code",
   "execution_count": 57,
   "metadata": {
    "collapsed": true
   },
   "outputs": [],
   "source": [
    "features = features[features.columns.drop(['n_unique_tokens', 'num_imgs',\n",
    "                                           'min_negative_polarity'])]"
   ]
  },
  {
   "cell_type": "code",
   "execution_count": 58,
   "metadata": {
    "collapsed": true
   },
   "outputs": [],
   "source": [
    "analysis8 = statsmodels_linear_regression(features, y)"
   ]
  },
  {
   "cell_type": "code",
   "execution_count": 59,
   "metadata": {
    "collapsed": false
   },
   "outputs": [
    {
     "name": "stdout",
     "output_type": "stream",
     "text": [
      "                            OLS Regression Results                            \n",
      "==============================================================================\n",
      "Dep. Variable:                 shares   R-squared:                       0.021\n",
      "Model:                            OLS   Adj. R-squared:                  0.020\n",
      "Method:                 Least Squares   F-statistic:                     35.63\n",
      "Date:                Sat, 11 Jul 2015   Prob (F-statistic):          4.22e-103\n",
      "Time:                        18:45:37   Log-Likelihood:            -2.6749e+05\n",
      "No. Observations:               24875   AIC:                         5.350e+05\n",
      "Df Residuals:                   24859   BIC:                         5.351e+05\n",
      "Df Model:                          15                                         \n",
      "==============================================================================================\n",
      "                                 coef    std err          t      P>|t|      [95.0% Conf. Int.]\n",
      "----------------------------------------------------------------------------------------------\n",
      "num_hrefs                     33.4763      7.221      4.636      0.000        19.322    47.630\n",
      "num_self_hrefs               -33.2905     21.475     -1.550      0.121       -75.382     8.801\n",
      "average_token_length        -422.5493    113.342     -3.728      0.000      -644.706  -200.393\n",
      "num_keywords                  92.6508     43.705      2.120      0.034         6.987   178.315\n",
      "kw_min_min                     5.1328      1.254      4.093      0.000         2.675     7.591\n",
      "kw_min_max                    -0.0027      0.001     -1.914      0.056        -0.005  6.52e-05\n",
      "kw_avg_max                     0.0014      0.001      1.690      0.091        -0.000     0.003\n",
      "kw_min_avg                    -0.3382      0.089     -3.779      0.000        -0.514    -0.163\n",
      "kw_max_avg                    -0.1899      0.026     -7.390      0.000        -0.240    -0.140\n",
      "kw_avg_avg                     1.6517      0.145     11.398      0.000         1.368     1.936\n",
      "self_reference_min_shares      0.0432      0.009      4.694      0.000         0.025     0.061\n",
      "self_reference_max_shares      0.0112      0.005      2.212      0.027         0.001     0.021\n",
      "self_reference_avg_sharess    -0.0229      0.013     -1.791      0.073        -0.048     0.002\n",
      "global_subjectivity         3313.3703    796.769      4.159      0.000      1751.656  4875.085\n",
      "abs_title_subjectivity       714.1385    380.795      1.875      0.061       -32.242  1460.519\n",
      "const                      -1659.3783    659.981     -2.514      0.012     -2952.981  -365.776\n",
      "==============================================================================\n",
      "Omnibus:                    65477.621   Durbin-Watson:                   2.005\n",
      "Prob(Omnibus):                  0.000   Jarque-Bera (JB):       2322714609.518\n",
      "Skew:                          31.001   Prob(JB):                         0.00\n",
      "Kurtosis:                    1498.716   Cond. No.                     3.29e+06\n",
      "==============================================================================\n",
      "\n",
      "Warnings:\n",
      "[1] The condition number is large, 3.29e+06. This might indicate that there are\n",
      "strong multicollinearity or other numerical problems.\n"
     ]
    }
   ],
   "source": [
    "print analysis8.summary()"
   ]
  },
  {
   "cell_type": "code",
   "execution_count": 60,
   "metadata": {
    "collapsed": true
   },
   "outputs": [],
   "source": [
    "features = features[features.columns.drop(['num_self_hrefs'])]"
   ]
  },
  {
   "cell_type": "code",
   "execution_count": 61,
   "metadata": {
    "collapsed": true
   },
   "outputs": [],
   "source": [
    "analysis9 = statsmodels_linear_regression(features, y)"
   ]
  },
  {
   "cell_type": "code",
   "execution_count": 62,
   "metadata": {
    "collapsed": false
   },
   "outputs": [
    {
     "name": "stdout",
     "output_type": "stream",
     "text": [
      "                            OLS Regression Results                            \n",
      "==============================================================================\n",
      "Dep. Variable:                 shares   R-squared:                       0.021\n",
      "Model:                            OLS   Adj. R-squared:                  0.020\n",
      "Method:                 Least Squares   F-statistic:                     38.00\n",
      "Date:                Sat, 11 Jul 2015   Prob (F-statistic):          2.17e-103\n",
      "Time:                        19:16:58   Log-Likelihood:            -2.6749e+05\n",
      "No. Observations:               24875   AIC:                         5.350e+05\n",
      "Df Residuals:                   24860   BIC:                         5.351e+05\n",
      "Df Model:                          14                                         \n",
      "==============================================================================================\n",
      "                                 coef    std err          t      P>|t|      [95.0% Conf. Int.]\n",
      "----------------------------------------------------------------------------------------------\n",
      "num_hrefs                     29.5343      6.759      4.370      0.000        16.287    42.782\n",
      "average_token_length        -423.6519    113.343     -3.738      0.000      -645.810  -201.494\n",
      "num_keywords                  88.3636     43.618      2.026      0.043         2.869   173.858\n",
      "kw_min_min                     5.1723      1.254      4.125      0.000         2.714     7.630\n",
      "kw_min_max                    -0.0027      0.001     -1.905      0.057        -0.005  7.74e-05\n",
      "kw_avg_max                     0.0015      0.001      1.728      0.084        -0.000     0.003\n",
      "kw_min_avg                    -0.3519      0.089     -3.951      0.000        -0.526    -0.177\n",
      "kw_max_avg                    -0.1914      0.026     -7.454      0.000        -0.242    -0.141\n",
      "kw_avg_avg                     1.6691      0.144     11.553      0.000         1.386     1.952\n",
      "self_reference_min_shares      0.0418      0.009      4.564      0.000         0.024     0.060\n",
      "self_reference_max_shares      0.0096      0.005      1.934      0.053        -0.000     0.019\n",
      "self_reference_avg_sharess    -0.0198      0.013     -1.565      0.118        -0.045     0.005\n",
      "global_subjectivity         3269.2746    796.283      4.106      0.000      1708.512  4830.038\n",
      "abs_title_subjectivity       709.5542    380.794      1.863      0.062       -36.825  1455.933\n",
      "const                      -1706.9749    659.285     -2.589      0.010     -2999.213  -414.736\n",
      "==============================================================================\n",
      "Omnibus:                    65468.622   Durbin-Watson:                   2.004\n",
      "Prob(Omnibus):                  0.000   Jarque-Bera (JB):       2319699340.408\n",
      "Skew:                          30.990   Prob(JB):                         0.00\n",
      "Kurtosis:                    1497.744   Cond. No.                     3.29e+06\n",
      "==============================================================================\n",
      "\n",
      "Warnings:\n",
      "[1] The condition number is large, 3.29e+06. This might indicate that there are\n",
      "strong multicollinearity or other numerical problems.\n"
     ]
    }
   ],
   "source": [
    "print analysis9.summary()"
   ]
  },
  {
   "cell_type": "code",
   "execution_count": 63,
   "metadata": {
    "collapsed": true
   },
   "outputs": [],
   "source": [
    "features = features[features.columns.drop(['self_reference_avg_sharess'])]"
   ]
  },
  {
   "cell_type": "code",
   "execution_count": 64,
   "metadata": {
    "collapsed": true
   },
   "outputs": [],
   "source": [
    "analysis10 = statsmodels_linear_regression(features, y)"
   ]
  },
  {
   "cell_type": "code",
   "execution_count": 65,
   "metadata": {
    "collapsed": false
   },
   "outputs": [
    {
     "name": "stdout",
     "output_type": "stream",
     "text": [
      "                            OLS Regression Results                            \n",
      "==============================================================================\n",
      "Dep. Variable:                 shares   R-squared:                       0.021\n",
      "Model:                            OLS   Adj. R-squared:                  0.020\n",
      "Method:                 Least Squares   F-statistic:                     40.74\n",
      "Date:                Sat, 11 Jul 2015   Prob (F-statistic):          1.10e-103\n",
      "Time:                        19:19:33   Log-Likelihood:            -2.6749e+05\n",
      "No. Observations:               24875   AIC:                         5.350e+05\n",
      "Df Residuals:                   24861   BIC:                         5.351e+05\n",
      "Df Model:                          13                                         \n",
      "=============================================================================================\n",
      "                                coef    std err          t      P>|t|      [95.0% Conf. Int.]\n",
      "---------------------------------------------------------------------------------------------\n",
      "num_hrefs                    30.6807      6.719      4.566      0.000        17.511    43.851\n",
      "average_token_length       -427.3920    113.321     -3.772      0.000      -649.507  -205.277\n",
      "num_keywords                 87.8994     43.619      2.015      0.044         2.404   173.395\n",
      "kw_min_min                    5.1723      1.254      4.125      0.000         2.714     7.630\n",
      "kw_min_max                   -0.0027      0.001     -1.887      0.059        -0.005     0.000\n",
      "kw_avg_max                    0.0014      0.001      1.717      0.086        -0.000     0.003\n",
      "kw_min_avg                   -0.3529      0.089     -3.962      0.000        -0.527    -0.178\n",
      "kw_max_avg                   -0.1929      0.026     -7.520      0.000        -0.243    -0.143\n",
      "kw_avg_avg                    1.6694      0.144     11.555      0.000         1.386     1.953\n",
      "self_reference_min_shares     0.0290      0.004      6.921      0.000         0.021     0.037\n",
      "self_reference_max_shares     0.0025      0.002      1.248      0.212        -0.001     0.006\n",
      "global_subjectivity        3259.4753    796.282      4.093      0.000      1698.715  4820.235\n",
      "abs_title_subjectivity      708.4307    380.804      1.860      0.063       -37.969  1454.830\n",
      "const                     -1685.8067    659.166     -2.557      0.011     -2977.811  -393.803\n",
      "==============================================================================\n",
      "Omnibus:                    65468.334   Durbin-Watson:                   2.004\n",
      "Prob(Omnibus):                  0.000   Jarque-Bera (JB):       2319259769.446\n",
      "Skew:                          30.990   Prob(JB):                         0.00\n",
      "Kurtosis:                    1497.602   Cond. No.                     3.29e+06\n",
      "==============================================================================\n",
      "\n",
      "Warnings:\n",
      "[1] The condition number is large, 3.29e+06. This might indicate that there are\n",
      "strong multicollinearity or other numerical problems.\n"
     ]
    }
   ],
   "source": [
    "print analysis10.summary()"
   ]
  },
  {
   "cell_type": "code",
   "execution_count": 66,
   "metadata": {
    "collapsed": true
   },
   "outputs": [],
   "source": [
    "features = features[features.columns.drop(['self_reference_max_shares'])]"
   ]
  },
  {
   "cell_type": "code",
   "execution_count": 67,
   "metadata": {
    "collapsed": true
   },
   "outputs": [],
   "source": [
    "analysis11 = statsmodels_linear_regression(features, y)"
   ]
  },
  {
   "cell_type": "code",
   "execution_count": 68,
   "metadata": {
    "collapsed": false
   },
   "outputs": [
    {
     "name": "stdout",
     "output_type": "stream",
     "text": [
      "                            OLS Regression Results                            \n",
      "==============================================================================\n",
      "Dep. Variable:                 shares   R-squared:                       0.021\n",
      "Model:                            OLS   Adj. R-squared:                  0.020\n",
      "Method:                 Least Squares   F-statistic:                     44.00\n",
      "Date:                Sat, 11 Jul 2015   Prob (F-statistic):          3.48e-104\n",
      "Time:                        19:21:12   Log-Likelihood:            -2.6749e+05\n",
      "No. Observations:               24875   AIC:                         5.350e+05\n",
      "Df Residuals:                   24862   BIC:                         5.351e+05\n",
      "Df Model:                          12                                         \n",
      "=============================================================================================\n",
      "                                coef    std err          t      P>|t|      [95.0% Conf. Int.]\n",
      "---------------------------------------------------------------------------------------------\n",
      "num_hrefs                    31.3529      6.698      4.681      0.000        18.225    44.481\n",
      "average_token_length       -426.1102    113.317     -3.760      0.000      -648.219  -204.002\n",
      "num_keywords                 88.6700     43.615      2.033      0.042         3.182   174.158\n",
      "kw_min_min                    5.1967      1.254      4.145      0.000         2.739     7.654\n",
      "kw_min_max                   -0.0027      0.001     -1.899      0.058        -0.005  8.68e-05\n",
      "kw_avg_max                    0.0015      0.001      1.794      0.073        -0.000     0.003\n",
      "kw_min_avg                   -0.3510      0.089     -3.941      0.000        -0.526    -0.176\n",
      "kw_max_avg                   -0.1900      0.026     -7.437      0.000        -0.240    -0.140\n",
      "kw_avg_avg                    1.6648      0.144     11.526      0.000         1.382     1.948\n",
      "self_reference_min_shares     0.0315      0.004      8.468      0.000         0.024     0.039\n",
      "global_subjectivity        3276.3175    796.177      4.115      0.000      1715.764  4836.871\n",
      "abs_title_subjectivity      707.3807    380.808      1.858      0.063       -39.025  1453.787\n",
      "const                     -1716.3361    658.719     -2.606      0.009     -3007.465  -425.207\n",
      "==============================================================================\n",
      "Omnibus:                    65466.649   Durbin-Watson:                   2.005\n",
      "Prob(Omnibus):                  0.000   Jarque-Bera (JB):       2318711610.617\n",
      "Skew:                          30.988   Prob(JB):                         0.00\n",
      "Kurtosis:                    1497.426   Cond. No.                     3.28e+06\n",
      "==============================================================================\n",
      "\n",
      "Warnings:\n",
      "[1] The condition number is large, 3.28e+06. This might indicate that there are\n",
      "strong multicollinearity or other numerical problems.\n"
     ]
    }
   ],
   "source": [
    "print analysis11.summary()"
   ]
  },
  {
   "cell_type": "code",
   "execution_count": 70,
   "metadata": {
    "collapsed": true
   },
   "outputs": [],
   "source": [
    "Xt, Xv, yt, yv = split_data(features, y)"
   ]
  },
  {
   "cell_type": "code",
   "execution_count": 71,
   "metadata": {
    "collapsed": true
   },
   "outputs": [],
   "source": [
    "lr_model = build_model(Xt, yt)"
   ]
  },
  {
   "cell_type": "code",
   "execution_count": 72,
   "metadata": {
    "collapsed": true
   },
   "outputs": [],
   "source": [
    "yt_pred = lr_model.predict(Xt)"
   ]
  },
  {
   "cell_type": "code",
   "execution_count": 73,
   "metadata": {
    "collapsed": false
   },
   "outputs": [
    {
     "name": "stdout",
     "output_type": "stream",
     "text": [
      "RMSE on training set 12037.2858 \n"
     ]
    }
   ],
   "source": [
    "print 'RMSE on training set %0.4f ' %(RMSE(yt, yt_pred))"
   ]
  },
  {
   "cell_type": "code",
   "execution_count": 74,
   "metadata": {
    "collapsed": true
   },
   "outputs": [],
   "source": [
    "yv_pred = lr_model.predict(Xv)"
   ]
  },
  {
   "cell_type": "code",
   "execution_count": 75,
   "metadata": {
    "collapsed": false
   },
   "outputs": [
    {
     "name": "stdout",
     "output_type": "stream",
     "text": [
      "RMSE on test set 7846.2013 \n"
     ]
    }
   ],
   "source": [
    "print 'RMSE on test set %0.4f ' %(RMSE(yv, yv_pred))"
   ]
  },
  {
   "cell_type": "markdown",
   "metadata": {},
   "source": [
    "### Train on full dataset"
   ]
  },
  {
   "cell_type": "code",
   "execution_count": 76,
   "metadata": {
    "collapsed": true
   },
   "outputs": [],
   "source": [
    "features_test = return_features(magazino_test) "
   ]
  },
  {
   "cell_type": "code",
   "execution_count": 77,
   "metadata": {
    "collapsed": true
   },
   "outputs": [],
   "source": [
    "features_test_selected = features_test[features.columns]"
   ]
  },
  {
   "cell_type": "code",
   "execution_count": 78,
   "metadata": {
    "collapsed": true
   },
   "outputs": [],
   "source": [
    "# train model on full dataset\n",
    "model = build_model(features, y)"
   ]
  },
  {
   "cell_type": "code",
   "execution_count": 79,
   "metadata": {
    "collapsed": true
   },
   "outputs": [],
   "source": [
    "final_preds = model.predict(features_test_selected)"
   ]
  },
  {
   "cell_type": "code",
   "execution_count": 80,
   "metadata": {
    "collapsed": true
   },
   "outputs": [],
   "source": [
    "make_submission(magazino_test.index.values, final_preds, 'only12features.csv')"
   ]
  },
  {
   "cell_type": "code",
   "execution_count": null,
   "metadata": {
    "collapsed": true
   },
   "outputs": [],
   "source": []
  },
  {
   "cell_type": "code",
   "execution_count": null,
   "metadata": {
    "collapsed": true
   },
   "outputs": [],
   "source": []
  },
  {
   "cell_type": "code",
   "execution_count": null,
   "metadata": {
    "collapsed": true
   },
   "outputs": [],
   "source": []
  }
 ],
 "metadata": {
  "kernelspec": {
   "display_name": "Python 2",
   "language": "python",
   "name": "python2"
  },
  "language_info": {
   "codemirror_mode": {
    "name": "ipython",
    "version": 2
   },
   "file_extension": ".py",
   "mimetype": "text/x-python",
   "name": "python",
   "nbconvert_exporter": "python",
   "pygments_lexer": "ipython2",
   "version": "2.7.6"
  }
 },
 "nbformat": 4,
 "nbformat_minor": 0
}
